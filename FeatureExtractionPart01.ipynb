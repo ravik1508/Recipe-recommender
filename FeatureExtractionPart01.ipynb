{
 "cells": [
  {
   "cell_type": "markdown",
   "id": "c45337ba-470b-48f1-b85b-a1bcacc3a3e4",
   "metadata": {},
   "source": [
    "## Initial Setup"
   ]
  },
  {
   "cell_type": "code",
   "execution_count": 1,
   "id": "a20db557-b09f-49c2-8923-5784024e29b3",
   "metadata": {
    "execution": {
     "iopub.execute_input": "2025-01-30T18:06:08.028349Z",
     "iopub.status.busy": "2025-01-30T18:06:08.027999Z",
     "iopub.status.idle": "2025-01-30T18:06:59.921941Z",
     "shell.execute_reply": "2025-01-30T18:06:59.921151Z",
     "shell.execute_reply.started": "2025-01-30T18:06:08.028315Z"
    },
    "tags": []
   },
   "outputs": [
    {
     "data": {
      "application/vnd.jupyter.widget-view+json": {
       "model_id": "3eb2c4e3342646ffac2fad1c1a75395b",
       "version_major": 2,
       "version_minor": 0
      },
      "text/plain": [
       "VBox()"
      ]
     },
     "metadata": {},
     "output_type": "display_data"
    },
    {
     "name": "stdout",
     "output_type": "stream",
     "text": [
      "Starting Spark application\n"
     ]
    },
    {
     "data": {
      "text/html": [
       "<table>\n<tbody><tr><th>ID</th><th>YARN Application ID</th><th>Kind</th><th>State</th><th>Spark UI</th><th>Driver log</th><th>User</th><th>Current session?</th></tr><tr><td>0</td><td>application_1738259872610_0001</td><td>pyspark</td><td>idle</td><td><a target=\"_blank\" href=\"http://ip-172-31-94-253.ec2.internal:20888/proxy/application_1738259872610_0001/\" class=\"emr-proxy-link j-3SDSYRJMLBSK7 application_1738259872610_0001\" emr-resource=\"j-3SDSYRJMLBSK7\n\" application-id=\"application_1738259872610_0001\">Link</a></td><td><a target=\"_blank\" href=\"http://ip-172-31-82-129.ec2.internal:8042/node/containerlogs/container_1738259872610_0001_01_000001/livy\">Link</a></td><td>None</td><td>✔</td></tr></tbody></table>"
      ],
      "text/plain": [
       "<IPython.core.display.HTML object>"
      ]
     },
     "metadata": {},
     "output_type": "display_data"
    },
    {
     "data": {
      "application/vnd.jupyter.widget-view+json": {
       "model_id": "",
       "version_major": 2,
       "version_minor": 0
      },
      "text/plain": [
       "FloatProgress(value=0.0, bar_style='info', description='Progress:', layout=Layout(height='25px', width='50%'),…"
      ]
     },
     "metadata": {},
     "output_type": "display_data"
    },
    {
     "name": "stdout",
     "output_type": "stream",
     "text": [
      "SparkSession available as 'spark'.\n"
     ]
    },
    {
     "data": {
      "application/vnd.jupyter.widget-view+json": {
       "model_id": "",
       "version_major": 2,
       "version_minor": 0
      },
      "text/plain": [
       "FloatProgress(value=0.0, bar_style='info', description='Progress:', layout=Layout(height='25px', width='50%'),…"
      ]
     },
     "metadata": {},
     "output_type": "display_data"
    }
   ],
   "source": [
    "from pyspark.sql import SparkSession"
   ]
  },
  {
   "cell_type": "code",
   "execution_count": 2,
   "id": "9480c771-31a9-4082-8b49-f45e72fd3f2f",
   "metadata": {
    "execution": {
     "iopub.execute_input": "2025-01-30T18:06:59.926193Z",
     "iopub.status.busy": "2025-01-30T18:06:59.926012Z",
     "iopub.status.idle": "2025-01-30T18:07:00.013035Z",
     "shell.execute_reply": "2025-01-30T18:07:00.012343Z",
     "shell.execute_reply.started": "2025-01-30T18:06:59.926169Z"
    },
    "tags": []
   },
   "outputs": [
    {
     "data": {
      "application/vnd.jupyter.widget-view+json": {
       "model_id": "0db1f907d604449299a61608a9eabe08",
       "version_major": 2,
       "version_minor": 0
      },
      "text/plain": [
       "VBox()"
      ]
     },
     "metadata": {},
     "output_type": "display_data"
    },
    {
     "data": {
      "application/vnd.jupyter.widget-view+json": {
       "model_id": "",
       "version_major": 2,
       "version_minor": 0
      },
      "text/plain": [
       "FloatProgress(value=0.0, bar_style='info', description='Progress:', layout=Layout(height='25px', width='50%'),…"
      ]
     },
     "metadata": {},
     "output_type": "display_data"
    }
   ],
   "source": [
    "from pyspark.sql import SparkSession\n",
    "spark = SparkSession.builder.appName(\"Basics\").getOrCreate()"
   ]
  },
  {
   "cell_type": "code",
   "execution_count": 3,
   "id": "5cab74c6-39d8-491a-bdcd-e2b9ee37d76d",
   "metadata": {
    "execution": {
     "iopub.execute_input": "2025-01-30T18:07:00.015186Z",
     "iopub.status.busy": "2025-01-30T18:07:00.014680Z",
     "iopub.status.idle": "2025-01-30T18:07:00.138663Z",
     "shell.execute_reply": "2025-01-30T18:07:00.137861Z",
     "shell.execute_reply.started": "2025-01-30T18:07:00.015147Z"
    },
    "tags": []
   },
   "outputs": [
    {
     "data": {
      "application/vnd.jupyter.widget-view+json": {
       "model_id": "f0ec509967f84a96b836f30a572dada8",
       "version_major": 2,
       "version_minor": 0
      },
      "text/plain": [
       "VBox()"
      ]
     },
     "metadata": {},
     "output_type": "display_data"
    },
    {
     "data": {
      "application/vnd.jupyter.widget-view+json": {
       "model_id": "",
       "version_major": 2,
       "version_minor": 0
      },
      "text/plain": [
       "FloatProgress(value=0.0, bar_style='info', description='Progress:', layout=Layout(height='25px', width='50%'),…"
      ]
     },
     "metadata": {},
     "output_type": "display_data"
    },
    {
     "name": "stdout",
     "output_type": "stream",
     "text": [
      "<pyspark.sql.session.SparkSession object at 0x7f584e2d8eb0>"
     ]
    }
   ],
   "source": [
    "spark"
   ]
  },
  {
   "cell_type": "code",
   "execution_count": 4,
   "id": "9e181f26-a592-4a19-937e-f2432de0cdf5",
   "metadata": {
    "execution": {
     "iopub.execute_input": "2025-01-30T18:07:00.141243Z",
     "iopub.status.busy": "2025-01-30T18:07:00.139892Z",
     "iopub.status.idle": "2025-01-30T18:07:00.245650Z",
     "shell.execute_reply": "2025-01-30T18:07:00.244806Z",
     "shell.execute_reply.started": "2025-01-30T18:07:00.141134Z"
    },
    "tags": []
   },
   "outputs": [
    {
     "data": {
      "application/vnd.jupyter.widget-view+json": {
       "model_id": "d6f1faee49864b95bb5b72dbc840a5e6",
       "version_major": 2,
       "version_minor": 0
      },
      "text/plain": [
       "VBox()"
      ]
     },
     "metadata": {},
     "output_type": "display_data"
    },
    {
     "data": {
      "application/vnd.jupyter.widget-view+json": {
       "model_id": "",
       "version_major": 2,
       "version_minor": 0
      },
      "text/plain": [
       "FloatProgress(value=0.0, bar_style='info', description='Progress:', layout=Layout(height='25px', width='50%'),…"
      ]
     },
     "metadata": {},
     "output_type": "display_data"
    }
   ],
   "source": [
    "from pyspark.sql import functions as F\n",
    "\n",
    "# Import for typecasting columns\n",
    "from pyspark.sql.types import IntegerType,BooleanType,DateType,FloatType,StringType\n",
    "from pyspark.sql.types import ArrayType\n",
    "\n",
    "# Importing required libraries/Functions\n",
    "import pyspark\n",
    "from pyspark.sql.functions import col\n",
    "from pyspark.sql.functions import split, col"
   ]
  },
  {
   "cell_type": "code",
   "execution_count": 5,
   "id": "814d1667-db17-4721-9896-a886c9f4aa00",
   "metadata": {
    "execution": {
     "iopub.execute_input": "2025-01-30T18:07:00.248400Z",
     "iopub.status.busy": "2025-01-30T18:07:00.247562Z",
     "iopub.status.idle": "2025-01-30T18:07:13.698699Z",
     "shell.execute_reply": "2025-01-30T18:07:13.697871Z",
     "shell.execute_reply.started": "2025-01-30T18:07:00.248357Z"
    },
    "tags": []
   },
   "outputs": [
    {
     "data": {
      "application/vnd.jupyter.widget-view+json": {
       "model_id": "cb357ff6b97d4799bd478ce8db6c35d1",
       "version_major": 2,
       "version_minor": 0
      },
      "text/plain": [
       "VBox()"
      ]
     },
     "metadata": {},
     "output_type": "display_data"
    },
    {
     "data": {
      "application/vnd.jupyter.widget-view+json": {
       "model_id": "",
       "version_major": 2,
       "version_minor": 0
      },
      "text/plain": [
       "FloatProgress(value=0.0, bar_style='info', description='Progress:', layout=Layout(height='25px', width='50%'),…"
      ]
     },
     "metadata": {},
     "output_type": "display_data"
    },
    {
     "name": "stdout",
     "output_type": "stream",
     "text": [
      "root\n",
      " |-- name: string (nullable = true)\n",
      " |-- id: integer (nullable = true)\n",
      " |-- minutes: integer (nullable = true)\n",
      " |-- contributor_id: integer (nullable = true)\n",
      " |-- submitted: date (nullable = true)\n",
      " |-- tags: string (nullable = true)\n",
      " |-- nutrition: string (nullable = true)\n",
      " |-- n_steps: integer (nullable = true)\n",
      " |-- steps: string (nullable = true)\n",
      " |-- description: string (nullable = true)\n",
      " |-- ingredients: string (nullable = true)\n",
      " |-- n_ingredients: integer (nullable = true)"
     ]
    }
   ],
   "source": [
    "raw_recipes_df = spark.read.csv('s3://reciperecommendarassignment/RAW_recipes_cleaned.csv',inferSchema=True,header=True)\n",
    "raw_recipes_df.printSchema()"
   ]
  },
  {
   "cell_type": "code",
   "execution_count": 6,
   "id": "24978791-5e9c-4b56-9e64-c71b7fcb6adb",
   "metadata": {
    "execution": {
     "iopub.execute_input": "2025-01-30T18:07:13.700415Z",
     "iopub.status.busy": "2025-01-30T18:07:13.700213Z",
     "iopub.status.idle": "2025-01-30T18:07:14.477369Z",
     "shell.execute_reply": "2025-01-30T18:07:14.476603Z",
     "shell.execute_reply.started": "2025-01-30T18:07:13.700387Z"
    },
    "tags": []
   },
   "outputs": [
    {
     "data": {
      "application/vnd.jupyter.widget-view+json": {
       "model_id": "013192898f9842d4b2522894633ac475",
       "version_major": 2,
       "version_minor": 0
      },
      "text/plain": [
       "VBox()"
      ]
     },
     "metadata": {},
     "output_type": "display_data"
    },
    {
     "data": {
      "application/vnd.jupyter.widget-view+json": {
       "model_id": "",
       "version_major": 2,
       "version_minor": 0
      },
      "text/plain": [
       "FloatProgress(value=0.0, bar_style='info', description='Progress:', layout=Layout(height='25px', width='50%'),…"
      ]
     },
     "metadata": {},
     "output_type": "display_data"
    },
    {
     "name": "stdout",
     "output_type": "stream",
     "text": [
      "+--------------------+------+-------+--------------+----------+--------------------+--------------------+-------+--------------------+--------------------+--------------------+-------------+\n",
      "|                name|    id|minutes|contributor_id| submitted|                tags|           nutrition|n_steps|               steps|         description|         ingredients|n_ingredients|\n",
      "+--------------------+------+-------+--------------+----------+--------------------+--------------------+-------+--------------------+--------------------+--------------------+-------------+\n",
      "|arriba   baked wi...|137739|     55|         47892|2005-09-16|['60-minutes-or-l...|[51.5, 0.0, 13.0,...|     11|['make a choice a...|autumn is my favo...|['winter squash',...|            7|\n",
      "|a bit different  ...| 31490|     30|         26278|2002-06-17|['30-minutes-or-l...|[173.4, 18.0, 0.0...|      9|['preheat oven to...|this recipe calls...|['prepared pizza ...|            6|\n",
      "|all in the kitche...|112140|    130|        196586|2005-02-25|['time-to-make', ...|[269.8, 22.0, 32....|      6|['brown ground be...|this modified ver...|['ground beef', '...|           13|\n",
      "|  alouette  potatoes| 59389|     45|         68585|2003-04-14|['60-minutes-or-l...|[368.1, 17.0, 10....|     11|['place potatoes ...|this is a super e...|['spreadable chee...|           11|\n",
      "|amish  tomato ket...| 44061|    190|         41706|2002-10-25|['weeknight', 'ti...|[352.9, 1.0, 337....|      5|['mix all ingredi...|my dh's amish mot...|['tomato juice', ...|            8|\n",
      "|apple a day  milk...|  5289|      0|          1533|1999-12-06|['15-minutes-or-l...|[160.2, 10.0, 55....|      4|['combine ingredi...|                    |['milk', 'vanilla...|            4|\n",
      "|aww  marinated ol...| 25274|     15|         21730|2002-04-14|['15-minutes-or-l...|[380.7, 53.0, 7.0...|      4|['toast the fenne...|my italian mil wa...|['fennel seeds', ...|            9|\n",
      "|backyard style  b...| 67888|    120|         10404|2003-07-30|['weeknight', 'ti...|[1109.5, 83.0, 37...|     10|['in a medium sau...|this recipe is po...|['pork spareribs'...|           22|\n",
      "|bananas 4 ice cre...| 70971|    180|        102353|2003-09-10|['weeknight', 'ti...|[4270.8, 254.0, 1...|      8|['crumble cookies...|                    |['chocolate sandw...|            6|\n",
      "|beat this  banana...| 75452|     70|         15892|2003-11-04|['weeknight', 'ti...|[2669.3, 160.0, 9...|     12|['preheat oven to...| from ann hodgman's |['sugar', 'unsalt...|            9|\n",
      "|berry  good sandw...|109439|      5|         49168|2005-01-25|['15-minutes-or-l...|[79.2, 3.0, 58.0,...|      2|['in medium size ...|horseradish is on...|['whole berry cra...|            3|\n",
      "|better than sex  ...| 42198|   1460|         41531|2002-10-03|['weeknight', 'ti...|[734.1, 66.0, 199...|      8|['crush vanilla w...|simple but sexy. ...|['vanilla wafers'...|            7|\n",
      "|better then bush ...| 67547|   2970|         85627|2003-07-26|['weeknight', 'ti...|[462.4, 28.0, 214...|      9|['in a very large...|i'd have to say t...|['great northern ...|           13|\n",
      "|boat house  colla...|107517|    525|        137696|2005-01-03|['time-to-make', ...|[315.8, 0.0, 202....|      7|['put prepared gr...|my boss gave me t...|['collard greens'...|            7|\n",
      "|calm your nerves ...| 39959|      5|         37449|2002-09-10|['15-minutes-or-l...|[8.2, 0.0, 0.0, 0...|      6|['combine herbs',...|this will prove a...|['gentian root', ...|            5|\n",
      "|chicken lickin  g...| 63986|    500|         14664|2003-06-06|['weeknight', 'ti...|[105.7, 8.0, 0.0,...|      5|['dredge pork cho...|here's and old st...|['lean pork chops...|            7|\n",
      "|      chile rellenos| 43026|     45|         52268|2002-10-14|['60-minutes-or-l...|[94.0, 10.0, 0.0,...|      9|['drain green chi...|a favorite from a...|['egg roll wrap',...|            5|\n",
      "|      chinese  candy| 23933|     15|         35268|2002-03-29|['15-minutes-or-l...|[232.7, 21.0, 77....|      4|['melt butterscot...|a little differen...|['butterscotch ch...|            3|\n",
      "|  chinese  chop suey|  8559|     70|          4481|2001-01-27|['weeknight', 'ti...|[395.4, 31.0, 20....|      8|['brown ground me...|easy one-pot dinn...|['celery', 'onion...|            7|\n",
      "|cream  of caulifl...| 23850|    110|          3288|2002-03-28|['lactose', 'week...|[174.2, 4.0, 24.0...|     10|['heat the oil or...|this is a dairy f...|['canola oil', 'o...|           16|\n",
      "+--------------------+------+-------+--------------+----------+--------------------+--------------------+-------+--------------------+--------------------+--------------------+-------------+\n",
      "only showing top 20 rows"
     ]
    }
   ],
   "source": [
    "raw_recipes_df.show()"
   ]
  },
  {
   "cell_type": "code",
   "execution_count": 7,
   "id": "c2b1a974-898f-4669-8e4b-558fcd4c44cb",
   "metadata": {
    "execution": {
     "iopub.execute_input": "2025-01-30T18:07:14.479485Z",
     "iopub.status.busy": "2025-01-30T18:07:14.479256Z",
     "iopub.status.idle": "2025-01-30T18:07:19.799992Z",
     "shell.execute_reply": "2025-01-30T18:07:19.799158Z",
     "shell.execute_reply.started": "2025-01-30T18:07:14.479429Z"
    },
    "tags": []
   },
   "outputs": [
    {
     "data": {
      "application/vnd.jupyter.widget-view+json": {
       "model_id": "529483745de04e52bf0b1c5ac5df00a9",
       "version_major": 2,
       "version_minor": 0
      },
      "text/plain": [
       "VBox()"
      ]
     },
     "metadata": {},
     "output_type": "display_data"
    },
    {
     "data": {
      "application/vnd.jupyter.widget-view+json": {
       "model_id": "",
       "version_major": 2,
       "version_minor": 0
      },
      "text/plain": [
       "FloatProgress(value=0.0, bar_style='info', description='Progress:', layout=Layout(height='25px', width='50%'),…"
      ]
     },
     "metadata": {},
     "output_type": "display_data"
    }
   ],
   "source": [
    "assert raw_recipes_df.count()\n",
    "assert len(raw_recipes_df.columns)\n",
    "assert raw_recipes_df.schema[\"minutes\"].dataType\n",
    "assert raw_recipes_df.schema[\"tags\"].dataType\n",
    "assert raw_recipes_df.schema[\"n_ingredients\"].dataType"
   ]
  },
  {
   "cell_type": "markdown",
   "id": "220c50fa-91bb-4387-aff6-4298c52a9217",
   "metadata": {},
   "source": [
    "## Extract ```nutrition``` values"
   ]
  },
  {
   "cell_type": "code",
   "execution_count": 8,
   "id": "5345edd7-36e9-41ee-97c2-d2001c82357b",
   "metadata": {
    "execution": {
     "iopub.execute_input": "2025-01-30T18:07:19.801554Z",
     "iopub.status.busy": "2025-01-30T18:07:19.801382Z",
     "iopub.status.idle": "2025-01-30T18:07:19.863963Z",
     "shell.execute_reply": "2025-01-30T18:07:19.863165Z",
     "shell.execute_reply.started": "2025-01-30T18:07:19.801531Z"
    },
    "tags": []
   },
   "outputs": [
    {
     "data": {
      "application/vnd.jupyter.widget-view+json": {
       "model_id": "2ef71dd1a7474adb92ba19d7002072ac",
       "version_major": 2,
       "version_minor": 0
      },
      "text/plain": [
       "VBox()"
      ]
     },
     "metadata": {},
     "output_type": "display_data"
    },
    {
     "data": {
      "application/vnd.jupyter.widget-view+json": {
       "model_id": "",
       "version_major": 2,
       "version_minor": 0
      },
      "text/plain": [
       "FloatProgress(value=0.0, bar_style='info', description='Progress:', layout=Layout(height='25px', width='50%'),…"
      ]
     },
     "metadata": {},
     "output_type": "display_data"
    }
   ],
   "source": [
    "# List of nutrition columns\n",
    "\n",
    "nutrition_column_names = ['calories',\n",
    "                          'total_fat_PDV',\n",
    "                          'sugar_PDV',\n",
    "                          'sodium_PDV',\n",
    "                          'protein_PDV',\n",
    "                          'saturated_fat_PDV',\n",
    "                          'carbohydrates_PDV']"
   ]
  },
  {
   "cell_type": "code",
   "execution_count": 9,
   "id": "7a18712e-d069-4087-800e-c122854ae0ba",
   "metadata": {
    "execution": {
     "iopub.execute_input": "2025-01-30T18:07:19.865195Z",
     "iopub.status.busy": "2025-01-30T18:07:19.865011Z",
     "iopub.status.idle": "2025-01-30T18:07:20.129174Z",
     "shell.execute_reply": "2025-01-30T18:07:20.128376Z",
     "shell.execute_reply.started": "2025-01-30T18:07:19.865169Z"
    },
    "tags": []
   },
   "outputs": [
    {
     "data": {
      "application/vnd.jupyter.widget-view+json": {
       "model_id": "d4283f9f645e4b01a0e4241de04be672",
       "version_major": 2,
       "version_minor": 0
      },
      "text/plain": [
       "VBox()"
      ]
     },
     "metadata": {},
     "output_type": "display_data"
    },
    {
     "data": {
      "application/vnd.jupyter.widget-view+json": {
       "model_id": "",
       "version_major": 2,
       "version_minor": 0
      },
      "text/plain": [
       "FloatProgress(value=0.0, bar_style='info', description='Progress:', layout=Layout(height='25px', width='50%'),…"
      ]
     },
     "metadata": {},
     "output_type": "display_data"
    }
   ],
   "source": [
    "# Task 02 Cell 1 out of 2\n",
    "# 2.1 - string operations to remove square brakets\n",
    "\n",
    "raw_recipes_df = (raw_recipes_df\n",
    "                  .withColumn('nutrition', (F.regexp_replace('nutrition',\"[\\[\\]]\",\"\"))\n",
    "                             # add code to remove square brackets\n",
    "                             # pyspark function to replace string characters \n",
    "                             ))"
   ]
  },
  {
   "cell_type": "code",
   "execution_count": 10,
   "id": "de8c6c46-cc5d-4ccc-b279-8165f92f27d7",
   "metadata": {
    "execution": {
     "iopub.execute_input": "2025-01-30T18:07:20.130385Z",
     "iopub.status.busy": "2025-01-30T18:07:20.130157Z",
     "iopub.status.idle": "2025-01-30T18:07:20.407660Z",
     "shell.execute_reply": "2025-01-30T18:07:20.406796Z",
     "shell.execute_reply.started": "2025-01-30T18:07:20.130359Z"
    },
    "tags": []
   },
   "outputs": [
    {
     "data": {
      "application/vnd.jupyter.widget-view+json": {
       "model_id": "a26a98904f104dcd961cdd26ca01a061",
       "version_major": 2,
       "version_minor": 0
      },
      "text/plain": [
       "VBox()"
      ]
     },
     "metadata": {},
     "output_type": "display_data"
    },
    {
     "data": {
      "application/vnd.jupyter.widget-view+json": {
       "model_id": "",
       "version_major": 2,
       "version_minor": 0
      },
      "text/plain": [
       "FloatProgress(value=0.0, bar_style='info', description='Progress:', layout=Layout(height='25px', width='50%'),…"
      ]
     },
     "metadata": {},
     "output_type": "display_data"
    }
   ],
   "source": [
    "# Task 02 Cell 2 out of 3\n",
    "# STEP 2.2 - split the neutrition string into seven individial values. \n",
    "# Create an object to split the nutrition column\n",
    "\n",
    "# pyspark function to split values based on a delimiter.  \n",
    "nutrition_cols_split = pyspark.sql.functions.split(raw_recipes_df['nutrition'],',')\n",
    "\n",
    "# Write a loop to extract individual values from the nutrition column\n",
    "\n",
    "for col_index, col_name in enumerate(nutrition_column_names):\n",
    "    # col_index holds the index number of each column, e.g., calories will be 0\n",
    "    # col_name holds the name of each column \n",
    "    \n",
    "    raw_recipes_df = (raw_recipes_df.withColumn(col_name, nutrition_cols_split.getItem(col_index).cast(\"float\")\n",
    "                                        # pyspark function to extract individual values from the nutrition_cols_split object\n",
    "                                        # You can also cast the extracted value to floats in the same code. \n",
    "                                               ))"
   ]
  },
  {
   "cell_type": "code",
   "execution_count": 11,
   "id": "ba0129aa-d695-4a8a-98a6-aa6ff91d091d",
   "metadata": {
    "execution": {
     "iopub.execute_input": "2025-01-30T18:07:20.408949Z",
     "iopub.status.busy": "2025-01-30T18:07:20.408767Z",
     "iopub.status.idle": "2025-01-30T18:07:35.800231Z",
     "shell.execute_reply": "2025-01-30T18:07:35.799280Z",
     "shell.execute_reply.started": "2025-01-30T18:07:20.408924Z"
    },
    "tags": []
   },
   "outputs": [
    {
     "data": {
      "application/vnd.jupyter.widget-view+json": {
       "model_id": "3d0e2bdc56254e9d8c4913978cd477dd",
       "version_major": 2,
       "version_minor": 0
      },
      "text/plain": [
       "VBox()"
      ]
     },
     "metadata": {},
     "output_type": "display_data"
    },
    {
     "data": {
      "application/vnd.jupyter.widget-view+json": {
       "model_id": "",
       "version_major": 2,
       "version_minor": 0
      },
      "text/plain": [
       "FloatProgress(value=0.0, bar_style='info', description='Progress:', layout=Layout(height='25px', width='50%'),…"
      ]
     },
     "metadata": {},
     "output_type": "display_data"
    }
   ],
   "source": [
    "# Code check cell\n",
    "# Do not edit cells with assert commands\n",
    "# If an error is shown after running this cell, please recheck your code.  \n",
    "\n",
    "assert raw_recipes_df.schema[\"carbohydrates_PDV\"].dataType == FloatType(), \"Recheck your typecasting\"\n",
    "assert raw_recipes_df.collect()[123432][14] == 62.0, \"The columns have not been split correctly.\"\n",
    "assert raw_recipes_df.collect()[10000][12] == 60.400001525878906, \"The columns have not been split correctly.\""
   ]
  },
  {
   "cell_type": "code",
   "execution_count": 12,
   "id": "a96943fc-7a9a-486f-9f73-3edfd8453510",
   "metadata": {
    "execution": {
     "iopub.execute_input": "2025-01-30T18:07:35.801464Z",
     "iopub.status.busy": "2025-01-30T18:07:35.801247Z",
     "iopub.status.idle": "2025-01-30T18:07:36.578651Z",
     "shell.execute_reply": "2025-01-30T18:07:36.576977Z",
     "shell.execute_reply.started": "2025-01-30T18:07:35.801439Z"
    },
    "tags": []
   },
   "outputs": [
    {
     "data": {
      "application/vnd.jupyter.widget-view+json": {
       "model_id": "0aadf4aebfaa4690bce5f67e83e8ad66",
       "version_major": 2,
       "version_minor": 0
      },
      "text/plain": [
       "VBox()"
      ]
     },
     "metadata": {},
     "output_type": "display_data"
    },
    {
     "data": {
      "application/vnd.jupyter.widget-view+json": {
       "model_id": "",
       "version_major": 2,
       "version_minor": 0
      },
      "text/plain": [
       "FloatProgress(value=0.0, bar_style='info', description='Progress:', layout=Layout(height='25px', width='50%'),…"
      ]
     },
     "metadata": {},
     "output_type": "display_data"
    }
   ],
   "source": [
    "# Task 03 Cell 1 out of 1\n",
    "\n",
    "col_name_list = []\n",
    "for nutrition_col in nutrition_column_names:# loop over each of the newly created nutrition columns    \n",
    "    if nutrition_col != 'calories': # the calories column should not be a part of the transformation exercise\n",
    "        # following code will name the new columns \n",
    "        nutrition_per_100_cal_col = (nutrition_col\n",
    "                                 .replace('_PDV','')\n",
    "                                 +'_per_100_cal')\n",
    "        col_name_list.append(nutrition_per_100_cal_col)\n",
    "        raw_recipes_df = raw_recipes_df.withColumn(nutrition_per_100_cal_col,\n",
    "                                                   col(nutrition_col)*100/ col('calories')\n",
    "                                               # pyspark code to recreate the intended transformation \n",
    "                                                  )\n",
    "        \n",
    "        # You might end up adding nulls to the data because of our intended transformation. \n",
    "        # Perform a fill na operation to fill all the nulls with 0s. \n",
    "        # You must limit the scope of the fill na to the current column only. \n",
    "        \n",
    "        raw_recipes_df = raw_recipes_df.na.fill(value=0,subset= col_name_list) # pyspark code to fill nulls with 0 in only the current nutrition_per_100_cal_col"
   ]
  },
  {
   "cell_type": "code",
   "execution_count": 13,
   "id": "d0d6ba9d-ff70-47ef-8e86-a9fe3c7fb19e",
   "metadata": {
    "execution": {
     "iopub.execute_input": "2025-01-30T18:07:36.582053Z",
     "iopub.status.busy": "2025-01-30T18:07:36.581586Z",
     "iopub.status.idle": "2025-01-30T18:08:00.015473Z",
     "shell.execute_reply": "2025-01-30T18:08:00.014387Z",
     "shell.execute_reply.started": "2025-01-30T18:07:36.582011Z"
    },
    "tags": []
   },
   "outputs": [
    {
     "data": {
      "application/vnd.jupyter.widget-view+json": {
       "model_id": "765af76c92d042259416078f89992944",
       "version_major": 2,
       "version_minor": 0
      },
      "text/plain": [
       "VBox()"
      ]
     },
     "metadata": {},
     "output_type": "display_data"
    },
    {
     "data": {
      "application/vnd.jupyter.widget-view+json": {
       "model_id": "",
       "version_major": 2,
       "version_minor": 0
      },
      "text/plain": [
       "FloatProgress(value=0.0, bar_style='info', description='Progress:', layout=Layout(height='25px', width='50%'),…"
      ]
     },
     "metadata": {},
     "output_type": "display_data"
    }
   ],
   "source": [
    "# total fat check for id 28881\n",
    "assert raw_recipes_df.filter(\"id == 28881\").select('total_fat_per_100_cal').first()[0] == 0, \"total_fat_per_100_cal for recipe 28881 should be 0\"\n",
    "\n",
    "# total fat check for id 112140\n",
    "assert round(raw_recipes_df.filter(\"id == 112140\").select('total_fat_per_100_cal').first()[0]) == 8, \"total_fat_per_100_cal for recipe 112140 should be 8\"\n",
    "\n",
    "# checking for nulls\n",
    "for c in ['total_fat_per_100_cal','sugar_per_100_cal','sodium_per_100_cal','protein_per_100_cal',\n",
    "                          'saturated_fat_per_100_cal','carbohydrates_per_100_cal']:\n",
    "    assert raw_recipes_df.select(F.count(F.when(F.isnan(c) | F.col(c).isNull(), c)).alias(c)).collect()[0][0] == 0, \"There are Nulls in the data\""
   ]
  },
  {
   "cell_type": "code",
   "execution_count": 14,
   "id": "e319ac1b-fe02-440b-a12a-c986bc6dc3f0",
   "metadata": {
    "execution": {
     "iopub.execute_input": "2025-01-30T18:10:30.510445Z",
     "iopub.status.busy": "2025-01-30T18:10:30.510169Z",
     "iopub.status.idle": "2025-01-30T18:10:30.778915Z",
     "shell.execute_reply": "2025-01-30T18:10:30.777713Z",
     "shell.execute_reply.started": "2025-01-30T18:10:30.510415Z"
    },
    "tags": []
   },
   "outputs": [
    {
     "data": {
      "application/vnd.jupyter.widget-view+json": {
       "model_id": "59f7a5b26d304e6494f609cb243df143",
       "version_major": 2,
       "version_minor": 0
      },
      "text/plain": [
       "VBox()"
      ]
     },
     "metadata": {},
     "output_type": "display_data"
    },
    {
     "data": {
      "application/vnd.jupyter.widget-view+json": {
       "model_id": "",
       "version_major": 2,
       "version_minor": 0
      },
      "text/plain": [
       "FloatProgress(value=0.0, bar_style='info', description='Progress:', layout=Layout(height='25px', width='50%'),…"
      ]
     },
     "metadata": {},
     "output_type": "display_data"
    }
   ],
   "source": [
    "# Task 04 Cell 1 out of 1\n",
    "\n",
    "raw_recipes_df = (raw_recipes_df\n",
    "                  .withColumn('tags', (F.regexp_replace(\"tags\",\"[\\[\\]'']\", \"\"))\n",
    "                             # pyspark function to remove symbols like '[' ']' \"'\" from the strings in the tags column.\n",
    "                             )\n",
    "                  .withColumn('tags', split(col(\"tags\"), \", \").cast(ArrayType(StringType())).alias(\"tags\")\n",
    "                             # pyspark function to split the column using the comma delimiter.\n",
    "                             ))"
   ]
  },
  {
   "cell_type": "code",
   "execution_count": 15,
   "id": "ffa0b8b4-cfae-4ad8-a22c-485ee2e2dd7d",
   "metadata": {
    "execution": {
     "iopub.execute_input": "2025-01-30T18:12:24.424845Z",
     "iopub.status.busy": "2025-01-30T18:12:24.424619Z",
     "iopub.status.idle": "2025-01-30T18:12:47.817964Z",
     "shell.execute_reply": "2025-01-30T18:12:47.817138Z",
     "shell.execute_reply.started": "2025-01-30T18:12:24.424820Z"
    },
    "tags": []
   },
   "outputs": [
    {
     "data": {
      "application/vnd.jupyter.widget-view+json": {
       "model_id": "0112306ade834e28858617b2c2b8fcaa",
       "version_major": 2,
       "version_minor": 0
      },
      "text/plain": [
       "VBox()"
      ]
     },
     "metadata": {},
     "output_type": "display_data"
    },
    {
     "data": {
      "application/vnd.jupyter.widget-view+json": {
       "model_id": "",
       "version_major": 2,
       "version_minor": 0
      },
      "text/plain": [
       "FloatProgress(value=0.0, bar_style='info', description='Progress:', layout=Layout(height='25px', width='50%'),…"
      ]
     },
     "metadata": {},
     "output_type": "display_data"
    }
   ],
   "source": [
    "# Code check cell\n",
    "# Do not edit cells with assert commands\n",
    "# If an error is shown after running this cell, please recheck your code.  \n",
    "\n",
    "assert raw_recipes_df.schema[\"tags\"].dataType == ArrayType(StringType(), True), \"You have not split the string into an array.\"\n",
    "assert raw_recipes_df.collect()[2][5] == ['time-to-make','course', 'preparation', 'main-dish', 'chili', 'crock-pot-slow-cooker', 'dietary', 'equipment', '4-hours-or-less'], \"Recheck your string cleaning and splitting operations.\""
   ]
  },
  {
   "cell_type": "markdown",
   "id": "3e195019-ff51-437b-9adf-64a5ed2ad431",
   "metadata": {},
   "source": [
    "## Join Recipe Data to Review Data"
   ]
  },
  {
   "cell_type": "code",
   "execution_count": 16,
   "id": "635e2a29-dc19-4215-97bb-e3d557d6dcbe",
   "metadata": {
    "execution": {
     "iopub.execute_input": "2025-01-30T18:15:23.448170Z",
     "iopub.status.busy": "2025-01-30T18:15:23.447934Z",
     "iopub.status.idle": "2025-01-30T18:15:40.825450Z",
     "shell.execute_reply": "2025-01-30T18:15:40.824412Z",
     "shell.execute_reply.started": "2025-01-30T18:15:23.448131Z"
    },
    "tags": []
   },
   "outputs": [
    {
     "data": {
      "application/vnd.jupyter.widget-view+json": {
       "model_id": "b36af23215374b01a790519535ad13f4",
       "version_major": 2,
       "version_minor": 0
      },
      "text/plain": [
       "VBox()"
      ]
     },
     "metadata": {},
     "output_type": "display_data"
    },
    {
     "data": {
      "application/vnd.jupyter.widget-view+json": {
       "model_id": "",
       "version_major": 2,
       "version_minor": 0
      },
      "text/plain": [
       "FloatProgress(value=0.0, bar_style='info', description='Progress:', layout=Layout(height='25px', width='50%'),…"
      ]
     },
     "metadata": {},
     "output_type": "display_data"
    }
   ],
   "source": [
    "# Reading the second data set. \n",
    "# keep this cell unedited\n",
    "\n",
    "raw_ratings_df = (spark.read.csv(\"s3a://reciperecommendarassignment/RAW_interactions_cleaned.csv\", \n",
    "                                 header=True, \n",
    "                                 inferSchema= True)\n",
    "                  .withColumn(\"review_date\",  F.col(\"date\"))\n",
    "                  .drop(F.col(\"date\"))\n",
    "                  )"
   ]
  },
  {
   "cell_type": "code",
   "execution_count": 17,
   "id": "1039752f-d734-434d-baa1-988da8785ef5",
   "metadata": {
    "execution": {
     "iopub.execute_input": "2025-01-30T18:15:47.600647Z",
     "iopub.status.busy": "2025-01-30T18:15:47.600402Z",
     "iopub.status.idle": "2025-01-30T18:15:47.662943Z",
     "shell.execute_reply": "2025-01-30T18:15:47.661540Z",
     "shell.execute_reply.started": "2025-01-30T18:15:47.600622Z"
    },
    "tags": []
   },
   "outputs": [
    {
     "data": {
      "application/vnd.jupyter.widget-view+json": {
       "model_id": "ba0584d8badb44c09ecf81cf1425f712",
       "version_major": 2,
       "version_minor": 0
      },
      "text/plain": [
       "VBox()"
      ]
     },
     "metadata": {},
     "output_type": "display_data"
    },
    {
     "data": {
      "application/vnd.jupyter.widget-view+json": {
       "model_id": "",
       "version_major": 2,
       "version_minor": 0
      },
      "text/plain": [
       "FloatProgress(value=0.0, bar_style='info', description='Progress:', layout=Layout(height='25px', width='50%'),…"
      ]
     },
     "metadata": {},
     "output_type": "display_data"
    },
    {
     "name": "stdout",
     "output_type": "stream",
     "text": [
      "root\n",
      " |-- user_id: integer (nullable = true)\n",
      " |-- recipe_id: integer (nullable = true)\n",
      " |-- rating: integer (nullable = true)\n",
      " |-- review: string (nullable = true)\n",
      " |-- review_date: date (nullable = true)"
     ]
    }
   ],
   "source": [
    "raw_ratings_df.printSchema()"
   ]
  },
  {
   "cell_type": "code",
   "execution_count": 18,
   "id": "6c29d754-2771-4bf0-a6b5-0af8b81adec3",
   "metadata": {
    "execution": {
     "iopub.execute_input": "2025-01-30T18:16:30.896577Z",
     "iopub.status.busy": "2025-01-30T18:16:30.896329Z",
     "iopub.status.idle": "2025-01-30T18:16:36.208776Z",
     "shell.execute_reply": "2025-01-30T18:16:36.207849Z",
     "shell.execute_reply.started": "2025-01-30T18:16:30.896549Z"
    },
    "tags": []
   },
   "outputs": [
    {
     "data": {
      "application/vnd.jupyter.widget-view+json": {
       "model_id": "55d1dd2ca44e4cd887a317947b18f932",
       "version_major": 2,
       "version_minor": 0
      },
      "text/plain": [
       "VBox()"
      ]
     },
     "metadata": {},
     "output_type": "display_data"
    },
    {
     "data": {
      "application/vnd.jupyter.widget-view+json": {
       "model_id": "",
       "version_major": 2,
       "version_minor": 0
      },
      "text/plain": [
       "FloatProgress(value=0.0, bar_style='info', description='Progress:', layout=Layout(height='25px', width='50%'),…"
      ]
     },
     "metadata": {},
     "output_type": "display_data"
    }
   ],
   "source": [
    "# Code check cell\n",
    "# Do not edit cells with assert commands\n",
    "# If an error is shown after running this cell, please recheck your code.  \n",
    "\n",
    "assert raw_ratings_df.count() == 1132367, \"There is a mistake in reading the data.\"\n",
    "assert len(raw_ratings_df.columns) == 5, \"There is a mistake in reading the data.\""
   ]
  },
  {
   "cell_type": "code",
   "execution_count": 19,
   "id": "24b0300e-e6d5-4f54-8344-cb68e12886a9",
   "metadata": {
    "execution": {
     "iopub.execute_input": "2025-01-30T18:16:44.420384Z",
     "iopub.status.busy": "2025-01-30T18:16:44.420148Z",
     "iopub.status.idle": "2025-01-30T18:16:45.191140Z",
     "shell.execute_reply": "2025-01-30T18:16:45.190328Z",
     "shell.execute_reply.started": "2025-01-30T18:16:44.420356Z"
    },
    "tags": []
   },
   "outputs": [
    {
     "data": {
      "application/vnd.jupyter.widget-view+json": {
       "model_id": "a7466204b6c549cda793abb87270eb16",
       "version_major": 2,
       "version_minor": 0
      },
      "text/plain": [
       "VBox()"
      ]
     },
     "metadata": {},
     "output_type": "display_data"
    },
    {
     "data": {
      "application/vnd.jupyter.widget-view+json": {
       "model_id": "",
       "version_major": 2,
       "version_minor": 0
      },
      "text/plain": [
       "FloatProgress(value=0.0, bar_style='info', description='Progress:', layout=Layout(height='25px', width='50%'),…"
      ]
     },
     "metadata": {},
     "output_type": "display_data"
    },
    {
     "name": "stdout",
     "output_type": "stream",
     "text": [
      "+-------+---------+------+--------------------+-----------+\n",
      "|user_id|recipe_id|rating|              review|review_date|\n",
      "+-------+---------+------+--------------------+-----------+\n",
      "|  38094|    40893|     4|Great with a sala...| 2003-02-17|\n",
      "|1293707|    40893|     5|So simple  so del...| 2011-12-21|\n",
      "|   8937|    44394|     4|This worked very ...| 2002-12-01|\n",
      "| 126440|    85009|     5|I made the Mexica...| 2010-02-27|\n",
      "|  57222|    85009|     5|Made the cheddar ...| 2011-10-01|\n",
      "+-------+---------+------+--------------------+-----------+\n",
      "only showing top 5 rows"
     ]
    }
   ],
   "source": [
    "raw_ratings_df.show(5)"
   ]
  },
  {
   "cell_type": "code",
   "execution_count": 20,
   "id": "ff21edfb-ebe5-4fae-894c-1008b21a0e23",
   "metadata": {
    "execution": {
     "iopub.execute_input": "2025-01-30T18:18:27.115046Z",
     "iopub.status.busy": "2025-01-30T18:18:27.114805Z",
     "iopub.status.idle": "2025-01-30T18:18:27.373186Z",
     "shell.execute_reply": "2025-01-30T18:18:27.372192Z",
     "shell.execute_reply.started": "2025-01-30T18:18:27.115019Z"
    },
    "tags": []
   },
   "outputs": [
    {
     "data": {
      "application/vnd.jupyter.widget-view+json": {
       "model_id": "8e7c3e72a89d4772ae6ba0bd3f5d7d72",
       "version_major": 2,
       "version_minor": 0
      },
      "text/plain": [
       "VBox()"
      ]
     },
     "metadata": {},
     "output_type": "display_data"
    },
    {
     "data": {
      "application/vnd.jupyter.widget-view+json": {
       "model_id": "",
       "version_major": 2,
       "version_minor": 0
      },
      "text/plain": [
       "FloatProgress(value=0.0, bar_style='info', description='Progress:', layout=Layout(height='25px', width='50%'),…"
      ]
     },
     "metadata": {},
     "output_type": "display_data"
    }
   ],
   "source": [
    "# Task 05 Cell 1 out of 1\n",
    "\n",
    "interaction_level_df = raw_ratings_df.join(raw_recipes_df,raw_ratings_df.recipe_id==raw_recipes_df.id,'inner'\n",
    "                                           # add the key on which the join should happen\n",
    "                                           # mention the type of join expected. \n",
    "                                           )"
   ]
  },
  {
   "cell_type": "markdown",
   "id": "1f1cc672-5653-4a11-8f1f-056d233e297a",
   "metadata": {},
   "source": [
    "**Test cases for Task 05**"
   ]
  },
  {
   "cell_type": "code",
   "execution_count": 21,
   "id": "a50fafd7-678a-403f-aaa1-56aed24b1023",
   "metadata": {
    "execution": {
     "iopub.execute_input": "2025-01-30T18:19:38.076848Z",
     "iopub.status.busy": "2025-01-30T18:19:38.076627Z",
     "iopub.status.idle": "2025-01-30T18:20:03.460573Z",
     "shell.execute_reply": "2025-01-30T18:20:03.459621Z",
     "shell.execute_reply.started": "2025-01-30T18:19:38.076824Z"
    },
    "tags": []
   },
   "outputs": [
    {
     "data": {
      "application/vnd.jupyter.widget-view+json": {
       "model_id": "a9532168dfde4e52be1f0a7b65f14b82",
       "version_major": 2,
       "version_minor": 0
      },
      "text/plain": [
       "VBox()"
      ]
     },
     "metadata": {},
     "output_type": "display_data"
    },
    {
     "data": {
      "application/vnd.jupyter.widget-view+json": {
       "model_id": "",
       "version_major": 2,
       "version_minor": 0
      },
      "text/plain": [
       "FloatProgress(value=0.0, bar_style='info', description='Progress:', layout=Layout(height='25px', width='50%'),…"
      ]
     },
     "metadata": {},
     "output_type": "display_data"
    }
   ],
   "source": [
    "# Code check cell\n",
    "# Do not edit cells with assert commands\n",
    "# If an error is shown after running this cell, please recheck your code.  \n",
    "\n",
    "assert (interaction_level_df.count() ,len(interaction_level_df.columns)) == (1132367, 30), \"The type of join is incorrect\"\n",
    "\n",
    "list1 = raw_ratings_df.select('recipe_id').collect()\n",
    "list2 = raw_recipes_df.select('id').collect()\n",
    "exclusive_set = set(list1)-set(list2)\n",
    "\n",
    "assert len(exclusive_set) == 0, \"There is a mistake in reading one of the two data files.\""
   ]
  },
  {
   "cell_type": "code",
   "execution_count": 22,
   "id": "ebaeb0fd-d0cd-49a1-9ce0-ff4bcb0781d9",
   "metadata": {
    "execution": {
     "iopub.execute_input": "2025-01-30T18:22:48.619569Z",
     "iopub.status.busy": "2025-01-30T18:22:48.619327Z",
     "iopub.status.idle": "2025-01-30T18:22:48.891700Z",
     "shell.execute_reply": "2025-01-30T18:22:48.890857Z",
     "shell.execute_reply.started": "2025-01-30T18:22:48.619543Z"
    },
    "tags": []
   },
   "outputs": [
    {
     "data": {
      "application/vnd.jupyter.widget-view+json": {
       "model_id": "b1907184ece947e09c6ea83b0d336b44",
       "version_major": 2,
       "version_minor": 0
      },
      "text/plain": [
       "VBox()"
      ]
     },
     "metadata": {},
     "output_type": "display_data"
    },
    {
     "data": {
      "application/vnd.jupyter.widget-view+json": {
       "model_id": "",
       "version_major": 2,
       "version_minor": 0
      },
      "text/plain": [
       "FloatProgress(value=0.0, bar_style='info', description='Progress:', layout=Layout(height='25px', width='50%'),…"
      ]
     },
     "metadata": {},
     "output_type": "display_data"
    }
   ],
   "source": [
    "# Task 06 Cell 1 out of 2\n",
    "\n",
    "interaction_level_df = (interaction_level_df\n",
    "                        .withColumn('submitted',F.col('submitted').cast('date') # pyspark function to cast a column to DateType()\n",
    "                                   )\n",
    "                        .withColumn('review_date',F.col('review_date').cast('date') # pyspark function to cast a column to DateType()\n",
    "                                   )\n",
    "                                             \n",
    "                       )"
   ]
  },
  {
   "cell_type": "code",
   "execution_count": 23,
   "id": "57676040-9e6b-4465-b9e1-c1c53c7fc0da",
   "metadata": {
    "execution": {
     "iopub.execute_input": "2025-01-30T18:24:08.148558Z",
     "iopub.status.busy": "2025-01-30T18:24:08.148318Z",
     "iopub.status.idle": "2025-01-30T18:24:08.404975Z",
     "shell.execute_reply": "2025-01-30T18:24:08.404107Z",
     "shell.execute_reply.started": "2025-01-30T18:24:08.148530Z"
    },
    "tags": []
   },
   "outputs": [
    {
     "data": {
      "application/vnd.jupyter.widget-view+json": {
       "model_id": "76260b7772a5486a93f3133bf089378b",
       "version_major": 2,
       "version_minor": 0
      },
      "text/plain": [
       "VBox()"
      ]
     },
     "metadata": {},
     "output_type": "display_data"
    },
    {
     "data": {
      "application/vnd.jupyter.widget-view+json": {
       "model_id": "",
       "version_major": 2,
       "version_minor": 0
      },
      "text/plain": [
       "FloatProgress(value=0.0, bar_style='info', description='Progress:', layout=Layout(height='25px', width='50%'),…"
      ]
     },
     "metadata": {},
     "output_type": "display_data"
    }
   ],
   "source": [
    "interaction_level_df = (interaction_level_df\n",
    "                        .withColumn('days_since_submission_on_review_date',F.datediff(\"review_date\", \"submitted\")\n",
    "                                     # Pyspark function to find the number of days between two dates              \n",
    "                                   )\n",
    "                        .withColumn('months_since_submission_on_review_date',F.months_between(\"review_date\", \"submitted\")\n",
    "                                     # Pyspark function to find the number of months between two dates          \n",
    "                                   )\n",
    "                        .withColumn('years_since_submission_on_review_date',F.months_between(\"review_date\", \"submitted\")/12\n",
    "                                     # Pyspark function to find the number of months between two dates / 12          \n",
    "                                   )\n",
    "                         )"
   ]
  },
  {
   "cell_type": "markdown",
   "id": "4d8704df-5c37-40d5-bc34-d1ceed649d71",
   "metadata": {},
   "source": [
    "**Test cases for Task 06**"
   ]
  },
  {
   "cell_type": "code",
   "execution_count": 24,
   "id": "83b0c7f2-965b-47eb-a8ac-7e5d12ee37a1",
   "metadata": {
    "execution": {
     "iopub.execute_input": "2025-01-30T18:25:17.333350Z",
     "iopub.status.busy": "2025-01-30T18:25:17.333116Z",
     "iopub.status.idle": "2025-01-30T18:25:44.735482Z",
     "shell.execute_reply": "2025-01-30T18:25:44.734512Z",
     "shell.execute_reply.started": "2025-01-30T18:25:17.333323Z"
    },
    "tags": []
   },
   "outputs": [
    {
     "data": {
      "application/vnd.jupyter.widget-view+json": {
       "model_id": "e87218b4e8364e908185d41b5c2a35c4",
       "version_major": 2,
       "version_minor": 0
      },
      "text/plain": [
       "VBox()"
      ]
     },
     "metadata": {},
     "output_type": "display_data"
    },
    {
     "data": {
      "application/vnd.jupyter.widget-view+json": {
       "model_id": "",
       "version_major": 2,
       "version_minor": 0
      },
      "text/plain": [
       "FloatProgress(value=0.0, bar_style='info', description='Progress:', layout=Layout(height='25px', width='50%'),…"
      ]
     },
     "metadata": {},
     "output_type": "display_data"
    }
   ],
   "source": [
    "# Code check cell\n",
    "# Do not edit cells with assert commands\n",
    "# If an error is shown after running this cell, please recheck your code.  \n",
    "\n",
    "assert interaction_level_df.schema[\"days_since_submission_on_review_date\"].dataType == IntegerType()\n",
    "\n",
    "assert (interaction_level_df.filter((interaction_level_df.user_id == 428885) & (interaction_level_df.recipe_id == 335241))\n",
    "                            .select('days_since_submission_on_review_date').collect()[0][0]) == 77\n",
    "assert (interaction_level_df.filter((interaction_level_df.user_id == 2025676) & (interaction_level_df.recipe_id == 94265))\n",
    "                            .select('months_since_submission_on_review_date').collect()[0][0]) == 153.22580645\n",
    "assert (interaction_level_df.filter((interaction_level_df.user_id == 338588) & (interaction_level_df.recipe_id == 21859))\n",
    "                            .select('years_since_submission_on_review_date').collect()[0][0]) == 4.564516129166667"
   ]
  },
  {
   "cell_type": "markdown",
   "id": "0223d4b4-af06-4194-b16f-8c270d8eff16",
   "metadata": {},
   "source": [
    "## Save the data we have created so far in a parquet file. "
   ]
  },
  {
   "cell_type": "code",
   "execution_count": 25,
   "id": "3fef2ec7-02a2-48c3-8a62-5f61446f301d",
   "metadata": {
    "execution": {
     "iopub.execute_input": "2025-01-30T18:25:54.829369Z",
     "iopub.status.busy": "2025-01-30T18:25:54.829128Z",
     "iopub.status.idle": "2025-01-30T18:25:54.888702Z",
     "shell.execute_reply": "2025-01-30T18:25:54.887748Z",
     "shell.execute_reply.started": "2025-01-30T18:25:54.829341Z"
    },
    "tags": []
   },
   "outputs": [
    {
     "data": {
      "application/vnd.jupyter.widget-view+json": {
       "model_id": "3804ae90c3904a318a1464d13dec576a",
       "version_major": 2,
       "version_minor": 0
      },
      "text/plain": [
       "VBox()"
      ]
     },
     "metadata": {},
     "output_type": "display_data"
    },
    {
     "data": {
      "application/vnd.jupyter.widget-view+json": {
       "model_id": "",
       "version_major": 2,
       "version_minor": 0
      },
      "text/plain": [
       "FloatProgress(value=0.0, bar_style='info', description='Progress:', layout=Layout(height='25px', width='50%'),…"
      ]
     },
     "metadata": {},
     "output_type": "display_data"
    },
    {
     "name": "stdout",
     "output_type": "stream",
     "text": [
      "root\n",
      " |-- user_id: integer (nullable = true)\n",
      " |-- recipe_id: integer (nullable = true)\n",
      " |-- rating: integer (nullable = true)\n",
      " |-- review: string (nullable = true)\n",
      " |-- review_date: date (nullable = true)\n",
      " |-- name: string (nullable = true)\n",
      " |-- id: integer (nullable = true)\n",
      " |-- minutes: integer (nullable = true)\n",
      " |-- contributor_id: integer (nullable = true)\n",
      " |-- submitted: date (nullable = true)\n",
      " |-- tags: array (nullable = true)\n",
      " |    |-- element: string (containsNull = true)\n",
      " |-- nutrition: string (nullable = true)\n",
      " |-- n_steps: integer (nullable = true)\n",
      " |-- steps: string (nullable = true)\n",
      " |-- description: string (nullable = true)\n",
      " |-- ingredients: string (nullable = true)\n",
      " |-- n_ingredients: integer (nullable = true)\n",
      " |-- calories: float (nullable = true)\n",
      " |-- total_fat_PDV: float (nullable = true)\n",
      " |-- sugar_PDV: float (nullable = true)\n",
      " |-- sodium_PDV: float (nullable = true)\n",
      " |-- protein_PDV: float (nullable = true)\n",
      " |-- saturated_fat_PDV: float (nullable = true)\n",
      " |-- carbohydrates_PDV: float (nullable = true)\n",
      " |-- total_fat_per_100_cal: double (nullable = false)\n",
      " |-- sugar_per_100_cal: double (nullable = false)\n",
      " |-- sodium_per_100_cal: double (nullable = false)\n",
      " |-- protein_per_100_cal: double (nullable = false)\n",
      " |-- saturated_fat_per_100_cal: double (nullable = false)\n",
      " |-- carbohydrates_per_100_cal: double (nullable = false)\n",
      " |-- days_since_submission_on_review_date: integer (nullable = true)\n",
      " |-- months_since_submission_on_review_date: double (nullable = true)\n",
      " |-- years_since_submission_on_review_date: double (nullable = true)"
     ]
    }
   ],
   "source": [
    "interaction_level_df.printSchema()"
   ]
  },
  {
   "cell_type": "code",
   "execution_count": 26,
   "id": "4d1c5932-a017-4df5-830c-ae8708d2c790",
   "metadata": {
    "execution": {
     "iopub.execute_input": "2025-01-30T18:26:05.850717Z",
     "iopub.status.busy": "2025-01-30T18:26:05.850486Z",
     "iopub.status.idle": "2025-01-30T18:26:15.161606Z",
     "shell.execute_reply": "2025-01-30T18:26:15.160827Z",
     "shell.execute_reply.started": "2025-01-30T18:26:05.850692Z"
    },
    "tags": []
   },
   "outputs": [
    {
     "data": {
      "application/vnd.jupyter.widget-view+json": {
       "model_id": "31fee2e4bb8944bebd59377dd53bde55",
       "version_major": 2,
       "version_minor": 0
      },
      "text/plain": [
       "VBox()"
      ]
     },
     "metadata": {},
     "output_type": "display_data"
    },
    {
     "data": {
      "application/vnd.jupyter.widget-view+json": {
       "model_id": "",
       "version_major": 2,
       "version_minor": 0
      },
      "text/plain": [
       "FloatProgress(value=0.0, bar_style='info', description='Progress:', layout=Layout(height='25px', width='50%'),…"
      ]
     },
     "metadata": {},
     "output_type": "display_data"
    }
   ],
   "source": [
    "assert (interaction_level_df.count() ,len(interaction_level_df.columns) ) == (1132367, 33)"
   ]
  },
  {
   "cell_type": "code",
   "execution_count": 28,
   "id": "eda1c4e6-c5a4-4b5b-9502-96f445f1c195",
   "metadata": {
    "execution": {
     "iopub.execute_input": "2025-01-30T18:31:58.272228Z",
     "iopub.status.busy": "2025-01-30T18:31:58.271988Z",
     "iopub.status.idle": "2025-01-30T18:32:39.760131Z",
     "shell.execute_reply": "2025-01-30T18:32:39.759022Z",
     "shell.execute_reply.started": "2025-01-30T18:31:58.272201Z"
    },
    "tags": []
   },
   "outputs": [
    {
     "data": {
      "application/vnd.jupyter.widget-view+json": {
       "model_id": "858b0b9b7933494ca36a2a34d0808a73",
       "version_major": 2,
       "version_minor": 0
      },
      "text/plain": [
       "VBox()"
      ]
     },
     "metadata": {},
     "output_type": "display_data"
    },
    {
     "data": {
      "application/vnd.jupyter.widget-view+json": {
       "model_id": "",
       "version_major": 2,
       "version_minor": 0
      },
      "text/plain": [
       "FloatProgress(value=0.0, bar_style='info', description='Progress:', layout=Layout(height='25px', width='50%'),…"
      ]
     },
     "metadata": {},
     "output_type": "display_data"
    }
   ],
   "source": [
    "## Write the raw_recipes_df\n",
    "## create a folder named data in you current directry before running this. \n",
    "\n",
    "interaction_level_df.write.mode(\"overwrite\").parquet('s3://reciperecommendarassignment/interaction_level_df_processed.parquet') # Modify the path as you need"
   ]
  }
 ],
 "metadata": {
  "kernelspec": {
   "display_name": "PySpark",
   "language": "python",
   "name": "pysparkkernel"
  },
  "language_info": {
   "codemirror_mode": {
    "name": "python",
    "version": 3
   },
   "file_extension": ".py",
   "mimetype": "text/x-python",
   "name": "pyspark",
   "pygments_lexer": "python3"
  }
 },
 "nbformat": 4,
 "nbformat_minor": 5
}
