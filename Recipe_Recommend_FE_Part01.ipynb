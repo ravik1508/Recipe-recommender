{
 "cells": [
  {
   "cell_type": "markdown",
   "id": "2f0bb435-8b91-4561-ad95-7a9c98e60eaf",
   "metadata": {
    "execution": {
     "iopub.execute_input": "2025-01-31T08:38:22.041304Z",
     "iopub.status.busy": "2025-01-31T08:38:22.040939Z",
     "iopub.status.idle": "2025-01-31T08:39:07.158677Z",
     "shell.execute_reply": "2025-01-31T08:39:07.157894Z",
     "shell.execute_reply.started": "2025-01-31T08:38:22.041269Z"
    },
    "tags": []
   },
   "source": [
    "###               Recipe Recommendation Project"
   ]
  },
  {
   "cell_type": "markdown",
   "id": "aaa917e2-d5cc-42b6-a513-f26d9ad871e8",
   "metadata": {},
   "source": [
    "#### Importing libraries"
   ]
  },
  {
   "cell_type": "code",
   "execution_count": 14,
   "id": "0ca509e8-6006-48b7-b8aa-28d94f7d4965",
   "metadata": {
    "execution": {
     "iopub.execute_input": "2025-02-01T10:40:08.297541Z",
     "iopub.status.busy": "2025-02-01T10:40:08.297300Z",
     "iopub.status.idle": "2025-02-01T10:40:08.348209Z",
     "shell.execute_reply": "2025-02-01T10:40:08.347618Z",
     "shell.execute_reply.started": "2025-02-01T10:40:08.297507Z"
    },
    "tags": []
   },
   "outputs": [
    {
     "data": {
      "application/vnd.jupyter.widget-view+json": {
       "model_id": "f98156ce4561425ea858e38946e907c8",
       "version_major": 2,
       "version_minor": 0
      },
      "text/plain": [
       "VBox()"
      ]
     },
     "metadata": {},
     "output_type": "display_data"
    },
    {
     "data": {
      "application/vnd.jupyter.widget-view+json": {
       "model_id": "",
       "version_major": 2,
       "version_minor": 0
      },
      "text/plain": [
       "FloatProgress(value=0.0, bar_style='info', description='Progress:', layout=Layout(height='25px', width='50%'),…"
      ]
     },
     "metadata": {},
     "output_type": "display_data"
    }
   ],
   "source": [
    "### Import libraries for PySpark\n",
    "from pyspark.sql import SparkSession\n",
    "\n",
    "import pyspark \n",
    "from pyspark.sql import functions as F\n",
    "\n",
    "# Import for typecasting columns\n",
    "from pyspark.sql.types import IntegerType,BooleanType,DateType,FloatType,StringType\n",
    "from pyspark.sql.types import ArrayType\n",
    "\n",
    "# Importing required libraries/Functions\n",
    "from pyspark.sql.functions import split, regexp_replace, col"
   ]
  },
  {
   "cell_type": "markdown",
   "id": "80c7f787-0b9b-48e4-be83-3b80b37feb2a",
   "metadata": {},
   "source": [
    "#### Initiating Spark session"
   ]
  },
  {
   "cell_type": "code",
   "execution_count": 2,
   "id": "18d8bc95-bbb4-49ee-b4c9-c03c56454650",
   "metadata": {
    "execution": {
     "iopub.execute_input": "2025-02-01T10:15:27.305440Z",
     "iopub.status.busy": "2025-02-01T10:15:27.305210Z",
     "iopub.status.idle": "2025-02-01T10:15:27.389247Z",
     "shell.execute_reply": "2025-02-01T10:15:27.388412Z",
     "shell.execute_reply.started": "2025-02-01T10:15:27.305415Z"
    },
    "tags": []
   },
   "outputs": [
    {
     "data": {
      "application/vnd.jupyter.widget-view+json": {
       "model_id": "35a0744b17324e7e86189189437754cf",
       "version_major": 2,
       "version_minor": 0
      },
      "text/plain": [
       "VBox()"
      ]
     },
     "metadata": {},
     "output_type": "display_data"
    },
    {
     "data": {
      "application/vnd.jupyter.widget-view+json": {
       "model_id": "",
       "version_major": 2,
       "version_minor": 0
      },
      "text/plain": [
       "FloatProgress(value=0.0, bar_style='info', description='Progress:', layout=Layout(height='25px', width='50%'),…"
      ]
     },
     "metadata": {},
     "output_type": "display_data"
    }
   ],
   "source": [
    "spark = SparkSession.builder.appName(\"RecipeData\").getOrCreate()"
   ]
  },
  {
   "cell_type": "markdown",
   "id": "824bb9dc-cf6b-4181-bddf-30e444c2897a",
   "metadata": {},
   "source": [
    "#### Reading the datasets"
   ]
  },
  {
   "cell_type": "code",
   "execution_count": 3,
   "id": "f81561b9-6fd7-449e-923a-12fd6c3f18d1",
   "metadata": {
    "execution": {
     "iopub.execute_input": "2025-02-01T10:15:48.901206Z",
     "iopub.status.busy": "2025-02-01T10:15:48.900946Z",
     "iopub.status.idle": "2025-02-01T10:16:02.285396Z",
     "shell.execute_reply": "2025-02-01T10:16:02.284548Z",
     "shell.execute_reply.started": "2025-02-01T10:15:48.901177Z"
    },
    "tags": []
   },
   "outputs": [
    {
     "data": {
      "application/vnd.jupyter.widget-view+json": {
       "model_id": "a06226f149d948f185cb7786f23dca8c",
       "version_major": 2,
       "version_minor": 0
      },
      "text/plain": [
       "VBox()"
      ]
     },
     "metadata": {},
     "output_type": "display_data"
    },
    {
     "data": {
      "application/vnd.jupyter.widget-view+json": {
       "model_id": "",
       "version_major": 2,
       "version_minor": 0
      },
      "text/plain": [
       "FloatProgress(value=0.0, bar_style='info', description='Progress:', layout=Layout(height='25px', width='50%'),…"
      ]
     },
     "metadata": {},
     "output_type": "display_data"
    }
   ],
   "source": [
    "raw_recipes_df = spark.read.csv('s3://recipedata-ravi/RAW_recipes_cleaned.csv',inferSchema=True,header=True)"
   ]
  },
  {
   "cell_type": "code",
   "execution_count": 5,
   "id": "a7933776-8d3f-4128-94c1-d0283a51c394",
   "metadata": {
    "execution": {
     "iopub.execute_input": "2025-02-01T10:16:42.224911Z",
     "iopub.status.busy": "2025-02-01T10:16:42.224538Z",
     "iopub.status.idle": "2025-02-01T10:16:42.286927Z",
     "shell.execute_reply": "2025-02-01T10:16:42.285495Z",
     "shell.execute_reply.started": "2025-02-01T10:16:42.224867Z"
    },
    "tags": []
   },
   "outputs": [
    {
     "data": {
      "application/vnd.jupyter.widget-view+json": {
       "model_id": "5edbaa09f97a44d08c7fc7cfb8e3dc21",
       "version_major": 2,
       "version_minor": 0
      },
      "text/plain": [
       "VBox()"
      ]
     },
     "metadata": {},
     "output_type": "display_data"
    },
    {
     "data": {
      "application/vnd.jupyter.widget-view+json": {
       "model_id": "",
       "version_major": 2,
       "version_minor": 0
      },
      "text/plain": [
       "FloatProgress(value=0.0, bar_style='info', description='Progress:', layout=Layout(height='25px', width='50%'),…"
      ]
     },
     "metadata": {},
     "output_type": "display_data"
    },
    {
     "name": "stdout",
     "output_type": "stream",
     "text": [
      "root\n",
      " |-- name: string (nullable = true)\n",
      " |-- id: integer (nullable = true)\n",
      " |-- minutes: integer (nullable = true)\n",
      " |-- contributor_id: integer (nullable = true)\n",
      " |-- submitted: date (nullable = true)\n",
      " |-- tags: string (nullable = true)\n",
      " |-- nutrition: string (nullable = true)\n",
      " |-- n_steps: integer (nullable = true)\n",
      " |-- steps: string (nullable = true)\n",
      " |-- description: string (nullable = true)\n",
      " |-- ingredients: string (nullable = true)\n",
      " |-- n_ingredients: integer (nullable = true)"
     ]
    }
   ],
   "source": [
    "raw_recipes_df.printSchema()"
   ]
  },
  {
   "cell_type": "code",
   "execution_count": 6,
   "id": "5a02a8e7-db52-423c-ba50-3beaafc5c511",
   "metadata": {
    "execution": {
     "iopub.execute_input": "2025-02-01T10:19:06.599092Z",
     "iopub.status.busy": "2025-02-01T10:19:06.598456Z",
     "iopub.status.idle": "2025-02-01T10:19:19.961850Z",
     "shell.execute_reply": "2025-02-01T10:19:19.961075Z",
     "shell.execute_reply.started": "2025-02-01T10:19:06.599062Z"
    },
    "tags": []
   },
   "outputs": [
    {
     "data": {
      "application/vnd.jupyter.widget-view+json": {
       "model_id": "3417f53b555c45cc90f3c23e658e1d01",
       "version_major": 2,
       "version_minor": 0
      },
      "text/plain": [
       "VBox()"
      ]
     },
     "metadata": {},
     "output_type": "display_data"
    },
    {
     "data": {
      "application/vnd.jupyter.widget-view+json": {
       "model_id": "",
       "version_major": 2,
       "version_minor": 0
      },
      "text/plain": [
       "FloatProgress(value=0.0, bar_style='info', description='Progress:', layout=Layout(height='25px', width='50%'),…"
      ]
     },
     "metadata": {},
     "output_type": "display_data"
    }
   ],
   "source": [
    "# Code check cell\n",
    "# Do not edit cells with assert commands\n",
    "# If an error is shown after running this cell, please recheck your code.  \n",
    "\n",
    "assert raw_recipes_df.count() == 231637, \"There is a mistake in reading the data.\"\n",
    "assert len(raw_recipes_df.columns) == 12, \"There is a mistake in reading the data.\"\n",
    "assert raw_recipes_df.schema[\"minutes\"].dataType == IntegerType(), \"The data types have not been read correctly.\"\n",
    "assert raw_recipes_df.schema[\"tags\"].dataType == StringType(), \"The data types have not been read correctly.\"\n",
    "assert raw_recipes_df.schema[\"n_ingredients\"].dataType == IntegerType(), \"The data types have not been read correctly.\""
   ]
  },
  {
   "cell_type": "code",
   "execution_count": 61,
   "id": "3226ccda-6023-49a7-a865-e5875f5e9fc4",
   "metadata": {
    "execution": {
     "iopub.execute_input": "2025-02-01T12:02:16.763666Z",
     "iopub.status.busy": "2025-02-01T12:02:16.763414Z",
     "iopub.status.idle": "2025-02-01T12:02:32.087222Z",
     "shell.execute_reply": "2025-02-01T12:02:32.086507Z",
     "shell.execute_reply.started": "2025-02-01T12:02:16.763637Z"
    },
    "tags": []
   },
   "outputs": [
    {
     "data": {
      "application/vnd.jupyter.widget-view+json": {
       "model_id": "a9c5698128eb43c0a51fd55930e0b029",
       "version_major": 2,
       "version_minor": 0
      },
      "text/plain": [
       "VBox()"
      ]
     },
     "metadata": {},
     "output_type": "display_data"
    },
    {
     "data": {
      "application/vnd.jupyter.widget-view+json": {
       "model_id": "",
       "version_major": 2,
       "version_minor": 0
      },
      "text/plain": [
       "FloatProgress(value=0.0, bar_style='info', description='Progress:', layout=Layout(height='25px', width='50%'),…"
      ]
     },
     "metadata": {},
     "output_type": "display_data"
    }
   ],
   "source": [
    "raw_ratings_df = (spark.read.csv(\"s3://recipedata-ravi/RAW_interactions_cleaned.csv\", \n",
    "                                 inferSchema= True, \n",
    "                                 header= True)\n",
    "                  .withColumn(\"review_date\",  F.col(\"date\"))\n",
    "                  .drop(F.col(\"date\"))\n",
    "                  )"
   ]
  },
  {
   "cell_type": "code",
   "execution_count": 23,
   "id": "96627e9f-5437-4cc1-a3c3-804e04f8d0c9",
   "metadata": {
    "execution": {
     "iopub.execute_input": "2025-02-01T11:10:03.604539Z",
     "iopub.status.busy": "2025-02-01T11:10:03.604309Z",
     "iopub.status.idle": "2025-02-01T11:10:03.663621Z",
     "shell.execute_reply": "2025-02-01T11:10:03.662906Z",
     "shell.execute_reply.started": "2025-02-01T11:10:03.604513Z"
    }
   },
   "outputs": [
    {
     "data": {
      "application/vnd.jupyter.widget-view+json": {
       "model_id": "7b8c2723b52e46dab492372f35c110e7",
       "version_major": 2,
       "version_minor": 0
      },
      "text/plain": [
       "VBox()"
      ]
     },
     "metadata": {},
     "output_type": "display_data"
    },
    {
     "data": {
      "application/vnd.jupyter.widget-view+json": {
       "model_id": "",
       "version_major": 2,
       "version_minor": 0
      },
      "text/plain": [
       "FloatProgress(value=0.0, bar_style='info', description='Progress:', layout=Layout(height='25px', width='50%'),…"
      ]
     },
     "metadata": {},
     "output_type": "display_data"
    },
    {
     "name": "stdout",
     "output_type": "stream",
     "text": [
      "root\n",
      " |-- user_id: integer (nullable = true)\n",
      " |-- recipe_id: integer (nullable = true)\n",
      " |-- date: date (nullable = true)\n",
      " |-- rating: integer (nullable = true)\n",
      " |-- review: string (nullable = true)"
     ]
    }
   ],
   "source": [
    "raw_ratings_df.printSchema()"
   ]
  },
  {
   "cell_type": "code",
   "execution_count": 24,
   "id": "59091d8a-35ac-485f-bcda-d6a31fbd8aa0",
   "metadata": {
    "execution": {
     "iopub.execute_input": "2025-02-01T11:10:26.284700Z",
     "iopub.status.busy": "2025-02-01T11:10:26.284475Z",
     "iopub.status.idle": "2025-02-01T11:10:29.569722Z",
     "shell.execute_reply": "2025-02-01T11:10:29.569080Z",
     "shell.execute_reply.started": "2025-02-01T11:10:26.284674Z"
    }
   },
   "outputs": [
    {
     "data": {
      "application/vnd.jupyter.widget-view+json": {
       "model_id": "9ea866ec3b004b8dbc3b8e34a8262dde",
       "version_major": 2,
       "version_minor": 0
      },
      "text/plain": [
       "VBox()"
      ]
     },
     "metadata": {},
     "output_type": "display_data"
    },
    {
     "data": {
      "application/vnd.jupyter.widget-view+json": {
       "model_id": "",
       "version_major": 2,
       "version_minor": 0
      },
      "text/plain": [
       "FloatProgress(value=0.0, bar_style='info', description='Progress:', layout=Layout(height='25px', width='50%'),…"
      ]
     },
     "metadata": {},
     "output_type": "display_data"
    }
   ],
   "source": [
    "# Code check cell\n",
    "# Do not edit cells with assert commands\n",
    "# If an error is shown after running this cell, please recheck your code.  \n",
    "\n",
    "assert raw_ratings_df.count() == 1132367, \"There is a mistake in reading the data.\"\n",
    "assert len(raw_ratings_df.columns) == 5, \"There is a mistake in reading the data.\""
   ]
  },
  {
   "cell_type": "markdown",
   "id": "3013cb9d-3d01-4df6-ba71-2f0b510d4aec",
   "metadata": {},
   "source": [
    "#### Extract Nutrition Values"
   ]
  },
  {
   "cell_type": "code",
   "execution_count": 7,
   "id": "e64c9b76-c394-4216-a20e-b624b6d585d7",
   "metadata": {
    "execution": {
     "iopub.execute_input": "2025-02-01T10:21:58.009391Z",
     "iopub.status.busy": "2025-02-01T10:21:58.009163Z",
     "iopub.status.idle": "2025-02-01T10:21:58.075390Z",
     "shell.execute_reply": "2025-02-01T10:21:58.074436Z",
     "shell.execute_reply.started": "2025-02-01T10:21:58.009365Z"
    }
   },
   "outputs": [
    {
     "data": {
      "application/vnd.jupyter.widget-view+json": {
       "model_id": "f2996702a9c34978a1e809fd60ea3484",
       "version_major": 2,
       "version_minor": 0
      },
      "text/plain": [
       "VBox()"
      ]
     },
     "metadata": {},
     "output_type": "display_data"
    },
    {
     "data": {
      "application/vnd.jupyter.widget-view+json": {
       "model_id": "",
       "version_major": 2,
       "version_minor": 0
      },
      "text/plain": [
       "FloatProgress(value=0.0, bar_style='info', description='Progress:', layout=Layout(height='25px', width='50%'),…"
      ]
     },
     "metadata": {},
     "output_type": "display_data"
    }
   ],
   "source": [
    "# List of nutrition columns\n",
    "\n",
    "nutrition_column_names = ['calories',\n",
    "                          'total_fat_PDV',\n",
    "                          'sugar_PDV',\n",
    "                          'sodium_PDV',\n",
    "                          'protein_PDV',\n",
    "                          'saturated_fat_PDV',\n",
    "                          'carbohydrates_PDV']"
   ]
  },
  {
   "cell_type": "markdown",
   "id": "5f7d3d25-f580-40ea-85ab-bac336009533",
   "metadata": {},
   "source": [
    "#### Extract individual features from Nutrition column.\n",
    "\n",
    "##### The nutrition column is a string column when it should be an array of float values. Each of the row in the nutrition column contain seven values. Each value represents nutrition information in the below order.\n",
    "\n",
    "##### 1st value: calories\n",
    "##### 2nd value: total_fat_PDV\n",
    "##### 3rd value: sugar_PDV\n",
    "##### 4th value: sodium_PDV\n",
    "##### 5th value: protein_PDV\n",
    "##### 6th value: saturated_fat_PDV\n",
    "##### 7th value: carbohydrates_PDV\n",
    "\n"
   ]
  },
  {
   "cell_type": "code",
   "execution_count": 8,
   "id": "d12647bd-2d7c-4a85-b08c-47b3f030e6d1",
   "metadata": {
    "execution": {
     "iopub.execute_input": "2025-02-01T10:31:48.890588Z",
     "iopub.status.busy": "2025-02-01T10:31:48.890357Z",
     "iopub.status.idle": "2025-02-01T10:31:49.155360Z",
     "shell.execute_reply": "2025-02-01T10:31:49.154382Z",
     "shell.execute_reply.started": "2025-02-01T10:31:48.890562Z"
    }
   },
   "outputs": [
    {
     "data": {
      "application/vnd.jupyter.widget-view+json": {
       "model_id": "260144c13f054c25853c4295551fd832",
       "version_major": 2,
       "version_minor": 0
      },
      "text/plain": [
       "VBox()"
      ]
     },
     "metadata": {},
     "output_type": "display_data"
    },
    {
     "data": {
      "application/vnd.jupyter.widget-view+json": {
       "model_id": "",
       "version_major": 2,
       "version_minor": 0
      },
      "text/plain": [
       "FloatProgress(value=0.0, bar_style='info', description='Progress:', layout=Layout(height='25px', width='50%'),…"
      ]
     },
     "metadata": {},
     "output_type": "display_data"
    }
   ],
   "source": [
    "# 2.1 - string operations to remove square brakets\n",
    "\n",
    "raw_recipes_df = (raw_recipes_df\n",
    "                  .withColumn('nutrition', (F.regexp_replace('nutrition',\"[\\[\\]]\",\"\"))\n",
    "                             ))"
   ]
  },
  {
   "cell_type": "code",
   "execution_count": 15,
   "id": "1f4efb28-791e-4eef-a098-3633f18acae6",
   "metadata": {
    "execution": {
     "iopub.execute_input": "2025-02-01T10:40:24.709715Z",
     "iopub.status.busy": "2025-02-01T10:40:24.709496Z",
     "iopub.status.idle": "2025-02-01T10:40:24.972652Z",
     "shell.execute_reply": "2025-02-01T10:40:24.971981Z",
     "shell.execute_reply.started": "2025-02-01T10:40:24.709691Z"
    },
    "tags": []
   },
   "outputs": [
    {
     "data": {
      "application/vnd.jupyter.widget-view+json": {
       "model_id": "6980c59a5fcd4de5837bbd179f6308dd",
       "version_major": 2,
       "version_minor": 0
      },
      "text/plain": [
       "VBox()"
      ]
     },
     "metadata": {},
     "output_type": "display_data"
    },
    {
     "data": {
      "application/vnd.jupyter.widget-view+json": {
       "model_id": "",
       "version_major": 2,
       "version_minor": 0
      },
      "text/plain": [
       "FloatProgress(value=0.0, bar_style='info', description='Progress:', layout=Layout(height='25px', width='50%'),…"
      ]
     },
     "metadata": {},
     "output_type": "display_data"
    }
   ],
   "source": [
    "# split the nutrition string into seven individial values. \n",
    "# Create an object to split the nutrition column\n",
    "\n",
    "# pyspark function to split values based on a delimiter.  \n",
    "nutrition_cols_split = pyspark.sql.functions.split(raw_recipes_df['nutrition'],',')\n",
    "# nutrition_cols_split = raw_recipes_df.withColumn(\"nutrition\", split(raw_recipes_df[\"nutrition\"], \",\"))\n",
    "\n",
    "# extract individual values from the nutrition column\n",
    "\n",
    "for col_index, col_name in enumerate(nutrition_column_names):\n",
    "    # col_index holds the index number of each column, e.g., calories will be 0\n",
    "    # col_name holds the name of each column \n",
    "    \n",
    "    raw_recipes_df = (raw_recipes_df.withColumn(col_name, nutrition_cols_split.getItem(col_index).cast(\"float\")))"
   ]
  },
  {
   "cell_type": "markdown",
   "id": "9dead401-351f-494e-94a7-5ac57d356059",
   "metadata": {},
   "source": [
    "#### Test cases to check Nutrition column split"
   ]
  },
  {
   "cell_type": "code",
   "execution_count": 16,
   "id": "57044883-0512-433b-83a7-1b816ef28ee0",
   "metadata": {
    "execution": {
     "iopub.execute_input": "2025-02-01T10:48:10.755436Z",
     "iopub.status.busy": "2025-02-01T10:48:10.755211Z",
     "iopub.status.idle": "2025-02-01T10:48:38.142038Z",
     "shell.execute_reply": "2025-02-01T10:48:38.141420Z",
     "shell.execute_reply.started": "2025-02-01T10:48:10.755412Z"
    }
   },
   "outputs": [
    {
     "data": {
      "application/vnd.jupyter.widget-view+json": {
       "model_id": "24264d8742b0454fabd9b17f4a847e9e",
       "version_major": 2,
       "version_minor": 0
      },
      "text/plain": [
       "VBox()"
      ]
     },
     "metadata": {},
     "output_type": "display_data"
    },
    {
     "data": {
      "application/vnd.jupyter.widget-view+json": {
       "model_id": "",
       "version_major": 2,
       "version_minor": 0
      },
      "text/plain": [
       "FloatProgress(value=0.0, bar_style='info', description='Progress:', layout=Layout(height='25px', width='50%'),…"
      ]
     },
     "metadata": {},
     "output_type": "display_data"
    }
   ],
   "source": [
    "# Code check cell\n",
    "# Do not edit cells with assert commands\n",
    "# If an error is shown after running this cell, please recheck your code.  \n",
    "\n",
    "assert raw_recipes_df.schema[\"carbohydrates_PDV\"].dataType == FloatType(), \"Recheck your typecasting\"\n",
    "assert raw_recipes_df.collect()[123432][14] == 62.0, \"The columns have not been split correctly.\"\n",
    "assert raw_recipes_df.collect()[10000][12] == 60.400001525878906, \"The columns have not been split correctly.\""
   ]
  },
  {
   "cell_type": "markdown",
   "id": "4b03ca20-c46c-4bfa-8f8c-bdbe321aa923",
   "metadata": {},
   "source": [
    "#### Transform Nutrition-per-100 Calorie columns\n",
    "\n",
    "##### By converting the nutrition values from absolute to relative terms, we ensure that portion size is not a factor in the analysis."
   ]
  },
  {
   "cell_type": "code",
   "execution_count": 17,
   "id": "8e7bc00f-c9e8-4781-a237-b1542bc56a88",
   "metadata": {
    "execution": {
     "iopub.execute_input": "2025-02-01T10:53:55.707008Z",
     "iopub.status.busy": "2025-02-01T10:53:55.706789Z",
     "iopub.status.idle": "2025-02-01T10:53:56.476647Z",
     "shell.execute_reply": "2025-02-01T10:53:56.475822Z",
     "shell.execute_reply.started": "2025-02-01T10:53:55.706982Z"
    }
   },
   "outputs": [
    {
     "data": {
      "application/vnd.jupyter.widget-view+json": {
       "model_id": "24354a89bf7d44c0a736fba66a4f1e30",
       "version_major": 2,
       "version_minor": 0
      },
      "text/plain": [
       "VBox()"
      ]
     },
     "metadata": {},
     "output_type": "display_data"
    },
    {
     "data": {
      "application/vnd.jupyter.widget-view+json": {
       "model_id": "",
       "version_major": 2,
       "version_minor": 0
      },
      "text/plain": [
       "FloatProgress(value=0.0, bar_style='info', description='Progress:', layout=Layout(height='25px', width='50%'),…"
      ]
     },
     "metadata": {},
     "output_type": "display_data"
    }
   ],
   "source": [
    "### Standardize the nutrition values\n",
    "\n",
    "### The current values for nutrition columns are not on the same scale. So standardizing the nutrition columns using calories as the base of standardization.\n",
    "\n",
    "\n",
    "col_name_list = []\n",
    "for nutrition_col in nutrition_column_names:# loop over each of the newly created nutrition columns    \n",
    "    if nutrition_col != 'calories': # the calories column should not be a part of the transformation exercise\n",
    "        # following code will name the new columns \n",
    "        nutrition_per_100_cal_col = (nutrition_col\n",
    "                                 .replace('_PDV','')\n",
    "                                 +'_per_100_cal')\n",
    "        col_name_list.append(nutrition_per_100_cal_col)\n",
    "        raw_recipes_df = raw_recipes_df.withColumn(nutrition_per_100_cal_col,\n",
    "                                                   col(nutrition_col)*100/ col('calories')\n",
    "                                               # pyspark code to recreate the intended transformation \n",
    "                                                  )\n",
    "        \n",
    "        # You might end up adding nulls to the data because of our intended transformation. \n",
    "        # Perform a fill na operation to fill all the nulls with 0s. \n",
    "        # You must limit the scope of the fill na to the current column only. \n",
    "        \n",
    "        raw_recipes_df = raw_recipes_df.na.fill(value=0,subset= col_name_list) # pyspark code to fill nulls with 0 in only the current nutrition_per_100_cal_col"
   ]
  },
  {
   "cell_type": "markdown",
   "id": "58ab03b9-8155-46ea-944b-4c9bc15564b4",
   "metadata": {},
   "source": [
    "##### Test cases for validating Standardization of Nutrition values"
   ]
  },
  {
   "cell_type": "code",
   "execution_count": 18,
   "id": "a886bb0c-dd3d-44e4-bd68-19ccda323107",
   "metadata": {
    "execution": {
     "iopub.execute_input": "2025-02-01T10:57:13.697768Z",
     "iopub.status.busy": "2025-02-01T10:57:13.697545Z",
     "iopub.status.idle": "2025-02-01T10:57:47.247292Z",
     "shell.execute_reply": "2025-02-01T10:57:47.246561Z",
     "shell.execute_reply.started": "2025-02-01T10:57:13.697742Z"
    }
   },
   "outputs": [
    {
     "data": {
      "application/vnd.jupyter.widget-view+json": {
       "model_id": "1825aed7f58c499b9502be8f48adbe3a",
       "version_major": 2,
       "version_minor": 0
      },
      "text/plain": [
       "VBox()"
      ]
     },
     "metadata": {},
     "output_type": "display_data"
    },
    {
     "data": {
      "application/vnd.jupyter.widget-view+json": {
       "model_id": "",
       "version_major": 2,
       "version_minor": 0
      },
      "text/plain": [
       "FloatProgress(value=0.0, bar_style='info', description='Progress:', layout=Layout(height='25px', width='50%'),…"
      ]
     },
     "metadata": {},
     "output_type": "display_data"
    }
   ],
   "source": [
    "# total fat check for id 28881\n",
    "assert raw_recipes_df.filter(\"id == 28881\").select('total_fat_per_100_cal').first()[0] == 0, \"total_fat_per_100_cal for recipe 28881 should be 0\"\n",
    "\n",
    "# total fat check for id 112140\n",
    "assert round(raw_recipes_df.filter(\"id == 112140\").select('total_fat_per_100_cal').first()[0]) == 8, \"total_fat_per_100_cal for recipe 112140 should be 8\"\n",
    "\n",
    "# checking for nulls\n",
    "for c in ['total_fat_per_100_cal','sugar_per_100_cal','sodium_per_100_cal','protein_per_100_cal',\n",
    "                          'saturated_fat_per_100_cal','carbohydrates_per_100_cal']:\n",
    "    assert raw_recipes_df.select(F.count(F.when(F.isnan(c) | F.col(c).isNull(), c)).alias(c)).collect()[0][0] == 0, \"There are Nulls in the data\""
   ]
  },
  {
   "cell_type": "markdown",
   "id": "440d2960-9d78-4e1c-803f-2dc7a2ce2f44",
   "metadata": {},
   "source": [
    "#### Convert Tags column from a string to an array of strings"
   ]
  },
  {
   "cell_type": "code",
   "execution_count": 19,
   "id": "9c7da9be-f7d2-4872-a81b-ca4715090021",
   "metadata": {
    "execution": {
     "iopub.execute_input": "2025-02-01T11:04:05.264425Z",
     "iopub.status.busy": "2025-02-01T11:04:05.264176Z",
     "iopub.status.idle": "2025-02-01T11:04:05.521006Z",
     "shell.execute_reply": "2025-02-01T11:04:05.520069Z",
     "shell.execute_reply.started": "2025-02-01T11:04:05.264396Z"
    },
    "tags": []
   },
   "outputs": [
    {
     "data": {
      "application/vnd.jupyter.widget-view+json": {
       "model_id": "01c488f901f54080bd6f837c2be42fa6",
       "version_major": 2,
       "version_minor": 0
      },
      "text/plain": [
       "VBox()"
      ]
     },
     "metadata": {},
     "output_type": "display_data"
    },
    {
     "data": {
      "application/vnd.jupyter.widget-view+json": {
       "model_id": "",
       "version_major": 2,
       "version_minor": 0
      },
      "text/plain": [
       "FloatProgress(value=0.0, bar_style='info', description='Progress:', layout=Layout(height='25px', width='50%'),…"
      ]
     },
     "metadata": {},
     "output_type": "display_data"
    }
   ],
   "source": [
    "### Currently the tags column is a string data type column but holds an array of strings.\n",
    "### Converting the 'tags' column to an array of strings.\n",
    "\n",
    "### Remove '[', ']' & \"'\" punctuation marks from the 'tags' column. Split the 'tags' column based on the comma delimitter.\n",
    "\n",
    "raw_recipes_df = (raw_recipes_df\n",
    "                  .withColumn('tags', \n",
    "                              regexp_replace(regexp_replace(regexp_replace(\"tags\", \"\\\\[\", \"\"), \"\\\\]\", \"\"), \"'\", \"\")))\n",
    "\n",
    "raw_recipes_df = raw_recipes_df.withColumn(\"tags\", split(raw_recipes_df[\"tags\"], \", \"))\n",
    "\n",
    "raw_recipes_df = raw_recipes_df.withColumn(\"tags\", raw_recipes_df[\"tags\"].cast(ArrayType(StringType(), True)))"
   ]
  },
  {
   "cell_type": "markdown",
   "id": "1c3d6c7e-6917-4c45-9168-0b0edab2875b",
   "metadata": {},
   "source": [
    "##### Test cases to check the conversion of Tags column"
   ]
  },
  {
   "cell_type": "code",
   "execution_count": 20,
   "id": "aed7739b-0368-4666-8c19-f9784592f48a",
   "metadata": {
    "execution": {
     "iopub.execute_input": "2025-02-01T11:05:06.351157Z",
     "iopub.status.busy": "2025-02-01T11:05:06.350931Z",
     "iopub.status.idle": "2025-02-01T11:05:29.711640Z",
     "shell.execute_reply": "2025-02-01T11:05:29.710949Z",
     "shell.execute_reply.started": "2025-02-01T11:05:06.351132Z"
    },
    "tags": []
   },
   "outputs": [
    {
     "data": {
      "application/vnd.jupyter.widget-view+json": {
       "model_id": "f14fe5da2aa44f6bb2fd264d72d7ef4c",
       "version_major": 2,
       "version_minor": 0
      },
      "text/plain": [
       "VBox()"
      ]
     },
     "metadata": {},
     "output_type": "display_data"
    },
    {
     "data": {
      "application/vnd.jupyter.widget-view+json": {
       "model_id": "",
       "version_major": 2,
       "version_minor": 0
      },
      "text/plain": [
       "FloatProgress(value=0.0, bar_style='info', description='Progress:', layout=Layout(height='25px', width='50%'),…"
      ]
     },
     "metadata": {},
     "output_type": "display_data"
    }
   ],
   "source": [
    "# Code check cell\n",
    "# Do not edit cells with assert commands\n",
    "# If an error is shown after running this cell, please recheck your code.  \n",
    "\n",
    "assert raw_recipes_df.schema[\"tags\"].dataType == ArrayType(StringType(), True), \"You have not split the string into an array.\"\n",
    "assert raw_recipes_df.collect()[2][5] == ['time-to-make','course', 'preparation', 'main-dish', 'chili', 'crock-pot-slow-cooker', 'dietary', 'equipment', '4-hours-or-less'], \"Recheck your string cleaning and splitting operations.\""
   ]
  },
  {
   "cell_type": "markdown",
   "id": "991f0d2e-657d-4947-9d35-bfb8d739593a",
   "metadata": {},
   "source": [
    "#### Join the Recipe Data to Review Data"
   ]
  },
  {
   "cell_type": "code",
   "execution_count": 63,
   "id": "f6702ed6-e27c-4d84-acda-3030d0cbc09b",
   "metadata": {
    "execution": {
     "iopub.execute_input": "2025-02-01T12:03:24.732772Z",
     "iopub.status.busy": "2025-02-01T12:03:24.732541Z",
     "iopub.status.idle": "2025-02-01T12:03:24.785391Z",
     "shell.execute_reply": "2025-02-01T12:03:24.784808Z",
     "shell.execute_reply.started": "2025-02-01T12:03:24.732745Z"
    },
    "tags": []
   },
   "outputs": [
    {
     "data": {
      "application/vnd.jupyter.widget-view+json": {
       "model_id": "6ad8ce4ed4ad427b8da7be1e57fe5679",
       "version_major": 2,
       "version_minor": 0
      },
      "text/plain": [
       "VBox()"
      ]
     },
     "metadata": {},
     "output_type": "display_data"
    },
    {
     "data": {
      "application/vnd.jupyter.widget-view+json": {
       "model_id": "",
       "version_major": 2,
       "version_minor": 0
      },
      "text/plain": [
       "FloatProgress(value=0.0, bar_style='info', description='Progress:', layout=Layout(height='25px', width='50%'),…"
      ]
     },
     "metadata": {},
     "output_type": "display_data"
    }
   ],
   "source": [
    "### Join the Recipe Data to Review Data\n",
    "\n",
    "interaction_level_df = raw_recipes_df.join(raw_ratings_df, raw_recipes_df.id==raw_ratings_df.recipe_id, how='inner')"
   ]
  },
  {
   "cell_type": "code",
   "execution_count": 64,
   "id": "e39634a5-d67d-4ada-bfdb-2204749ad1c6",
   "metadata": {
    "execution": {
     "iopub.execute_input": "2025-02-01T12:03:35.009401Z",
     "iopub.status.busy": "2025-02-01T12:03:35.009178Z",
     "iopub.status.idle": "2025-02-01T12:03:35.065154Z",
     "shell.execute_reply": "2025-02-01T12:03:35.064169Z",
     "shell.execute_reply.started": "2025-02-01T12:03:35.009375Z"
    },
    "tags": []
   },
   "outputs": [
    {
     "data": {
      "application/vnd.jupyter.widget-view+json": {
       "model_id": "5394a8070d184c1dae9c9ebc38e10ce0",
       "version_major": 2,
       "version_minor": 0
      },
      "text/plain": [
       "VBox()"
      ]
     },
     "metadata": {},
     "output_type": "display_data"
    },
    {
     "data": {
      "application/vnd.jupyter.widget-view+json": {
       "model_id": "",
       "version_major": 2,
       "version_minor": 0
      },
      "text/plain": [
       "FloatProgress(value=0.0, bar_style='info', description='Progress:', layout=Layout(height='25px', width='50%'),…"
      ]
     },
     "metadata": {},
     "output_type": "display_data"
    },
    {
     "name": "stdout",
     "output_type": "stream",
     "text": [
      "root\n",
      " |-- name: string (nullable = true)\n",
      " |-- id: integer (nullable = true)\n",
      " |-- minutes: integer (nullable = true)\n",
      " |-- contributor_id: integer (nullable = true)\n",
      " |-- submitted: date (nullable = true)\n",
      " |-- tags: array (nullable = true)\n",
      " |    |-- element: string (containsNull = true)\n",
      " |-- nutrition: string (nullable = true)\n",
      " |-- n_steps: integer (nullable = true)\n",
      " |-- steps: string (nullable = true)\n",
      " |-- description: string (nullable = true)\n",
      " |-- ingredients: string (nullable = true)\n",
      " |-- n_ingredients: integer (nullable = true)\n",
      " |-- calories: float (nullable = true)\n",
      " |-- total_fat_PDV: float (nullable = true)\n",
      " |-- sugar_PDV: float (nullable = true)\n",
      " |-- sodium_PDV: float (nullable = true)\n",
      " |-- protein_PDV: float (nullable = true)\n",
      " |-- saturated_fat_PDV: float (nullable = true)\n",
      " |-- carbohydrates_PDV: float (nullable = true)\n",
      " |-- total_fat_per_100_cal: double (nullable = false)\n",
      " |-- sugar_per_100_cal: double (nullable = false)\n",
      " |-- sodium_per_100_cal: double (nullable = false)\n",
      " |-- protein_per_100_cal: double (nullable = false)\n",
      " |-- saturated_fat_per_100_cal: double (nullable = false)\n",
      " |-- carbohydrates_per_100_cal: double (nullable = false)\n",
      " |-- user_id: integer (nullable = true)\n",
      " |-- recipe_id: integer (nullable = true)\n",
      " |-- rating: integer (nullable = true)\n",
      " |-- review: string (nullable = true)\n",
      " |-- review_date: date (nullable = true)"
     ]
    }
   ],
   "source": [
    "interaction_level_df.printSchema()"
   ]
  },
  {
   "cell_type": "markdown",
   "id": "41c85c6c-afa8-4d76-8369-634da2d507b0",
   "metadata": {},
   "source": [
    "#### Test cases for validating the Joining of two files"
   ]
  },
  {
   "cell_type": "code",
   "execution_count": 65,
   "id": "fd94c31b-fa51-4894-9b5c-a602c2d609d5",
   "metadata": {
    "execution": {
     "iopub.execute_input": "2025-02-01T12:03:47.716742Z",
     "iopub.status.busy": "2025-02-01T12:03:47.716510Z",
     "iopub.status.idle": "2025-02-01T12:04:15.192807Z",
     "shell.execute_reply": "2025-02-01T12:04:15.191999Z",
     "shell.execute_reply.started": "2025-02-01T12:03:47.716714Z"
    },
    "tags": []
   },
   "outputs": [
    {
     "data": {
      "application/vnd.jupyter.widget-view+json": {
       "model_id": "ba8418da20cb48b3aea991a92fe9f838",
       "version_major": 2,
       "version_minor": 0
      },
      "text/plain": [
       "VBox()"
      ]
     },
     "metadata": {},
     "output_type": "display_data"
    },
    {
     "data": {
      "application/vnd.jupyter.widget-view+json": {
       "model_id": "",
       "version_major": 2,
       "version_minor": 0
      },
      "text/plain": [
       "FloatProgress(value=0.0, bar_style='info', description='Progress:', layout=Layout(height='25px', width='50%'),…"
      ]
     },
     "metadata": {},
     "output_type": "display_data"
    }
   ],
   "source": [
    "# Code check cell\n",
    "# Do not edit cells with assert commands\n",
    "# If an error is shown after running this cell, please recheck your code.  \n",
    "\n",
    "assert (interaction_level_df.count() ,len(interaction_level_df.columns)) == (1132367, 30), \"The type of join is incorrect\"\n",
    "\n",
    "list1 = raw_ratings_df.select('recipe_id').collect()\n",
    "list2 = raw_recipes_df.select('id').collect()\n",
    "exclusive_set = set(list1)-set(list2)\n",
    "\n",
    "assert len(exclusive_set) == 0, \"There is a mistake in reading one of the two data files.\""
   ]
  },
  {
   "cell_type": "markdown",
   "id": "d59bc57f-797a-4d9f-aba4-274cc5189910",
   "metadata": {},
   "source": [
    "#### Creating time based features\n",
    "\n",
    "##### The date columns are in string format, convert them to date format"
   ]
  },
  {
   "cell_type": "code",
   "execution_count": 66,
   "id": "23f99566-cbb7-4761-a35b-f49de9224d55",
   "metadata": {
    "execution": {
     "iopub.execute_input": "2025-02-01T12:04:32.614885Z",
     "iopub.status.busy": "2025-02-01T12:04:32.614661Z",
     "iopub.status.idle": "2025-02-01T12:04:32.874175Z",
     "shell.execute_reply": "2025-02-01T12:04:32.873463Z",
     "shell.execute_reply.started": "2025-02-01T12:04:32.614860Z"
    },
    "tags": []
   },
   "outputs": [
    {
     "data": {
      "application/vnd.jupyter.widget-view+json": {
       "model_id": "8c6d542ead4d414fa69121315580f0e6",
       "version_major": 2,
       "version_minor": 0
      },
      "text/plain": [
       "VBox()"
      ]
     },
     "metadata": {},
     "output_type": "display_data"
    },
    {
     "data": {
      "application/vnd.jupyter.widget-view+json": {
       "model_id": "",
       "version_major": 2,
       "version_minor": 0
      },
      "text/plain": [
       "FloatProgress(value=0.0, bar_style='info', description='Progress:', layout=Layout(height='25px', width='50%'),…"
      ]
     },
     "metadata": {},
     "output_type": "display_data"
    }
   ],
   "source": [
    "### Convert the 'submitted' column to date format\n",
    "\n",
    "interaction_level_df = interaction_level_df.withColumn('submitted', F.to_date('submitted', 'yyyy-MM-dd'))\n",
    "\n",
    "interaction_level_df = interaction_level_df.withColumn('review_date', F.to_date('review_date', 'yyyy-MM-dd'))   "
   ]
  },
  {
   "cell_type": "markdown",
   "id": "4c858242-2818-438e-83e3-80c15447bbe2",
   "metadata": {},
   "source": [
    "### Use review date and submission date to derive new features:\n",
    "\n",
    " - days_since_submission_on_review_date:   Number of days between the recipe submission and the current review.\n",
    " - months_since_submission_on_review_date: Number of months between the recipe submission and the current review.\n",
    " - years_since_submission_on_review_date:  Number of years between the recipe submission and the current review."
   ]
  },
  {
   "cell_type": "code",
   "execution_count": 67,
   "id": "deb40fd6-08b8-4280-a660-3b6eb668a827",
   "metadata": {
    "execution": {
     "iopub.execute_input": "2025-02-01T12:08:52.604304Z",
     "iopub.status.busy": "2025-02-01T12:08:52.604075Z",
     "iopub.status.idle": "2025-02-01T12:08:52.864275Z",
     "shell.execute_reply": "2025-02-01T12:08:52.863512Z",
     "shell.execute_reply.started": "2025-02-01T12:08:52.604278Z"
    }
   },
   "outputs": [
    {
     "data": {
      "application/vnd.jupyter.widget-view+json": {
       "model_id": "5bb8510a61de4bbbbbc559437d0f365e",
       "version_major": 2,
       "version_minor": 0
      },
      "text/plain": [
       "VBox()"
      ]
     },
     "metadata": {},
     "output_type": "display_data"
    },
    {
     "data": {
      "application/vnd.jupyter.widget-view+json": {
       "model_id": "",
       "version_major": 2,
       "version_minor": 0
      },
      "text/plain": [
       "FloatProgress(value=0.0, bar_style='info', description='Progress:', layout=Layout(height='25px', width='50%'),…"
      ]
     },
     "metadata": {},
     "output_type": "display_data"
    }
   ],
   "source": [
    "interaction_level_df = (interaction_level_df\n",
    "                        .withColumn('days_since_submission_on_review_date',F.datediff(\"review_date\", \"submitted\")\n",
    "                                     # Pyspark function to find the number of days between two dates              \n",
    "                                   )\n",
    "                        .withColumn('months_since_submission_on_review_date',F.months_between(\"review_date\", \"submitted\")\n",
    "                                     # Pyspark function to find the number of months between two dates          \n",
    "                                   )\n",
    "                        .withColumn('years_since_submission_on_review_date',F.months_between(\"review_date\", \"submitted\")/12\n",
    "                                     # Pyspark function to find the number of months between two dates / 12          \n",
    "                                   )\n",
    "                         )"
   ]
  },
  {
   "cell_type": "markdown",
   "id": "f09fc7c3-abfe-4495-9537-d83d52df0f82",
   "metadata": {},
   "source": [
    "#### Test cases for validating the date columns derived above"
   ]
  },
  {
   "cell_type": "code",
   "execution_count": 68,
   "id": "c4d90753-ddd0-4575-b262-e8bdc9340b62",
   "metadata": {
    "execution": {
     "iopub.execute_input": "2025-02-01T12:10:09.044480Z",
     "iopub.status.busy": "2025-02-01T12:10:09.044255Z",
     "iopub.status.idle": "2025-02-01T12:10:34.422787Z",
     "shell.execute_reply": "2025-02-01T12:10:34.422114Z",
     "shell.execute_reply.started": "2025-02-01T12:10:09.044455Z"
    }
   },
   "outputs": [
    {
     "data": {
      "application/vnd.jupyter.widget-view+json": {
       "model_id": "d649c77ce2734d6b84ab7869e13fce0e",
       "version_major": 2,
       "version_minor": 0
      },
      "text/plain": [
       "VBox()"
      ]
     },
     "metadata": {},
     "output_type": "display_data"
    },
    {
     "data": {
      "application/vnd.jupyter.widget-view+json": {
       "model_id": "",
       "version_major": 2,
       "version_minor": 0
      },
      "text/plain": [
       "FloatProgress(value=0.0, bar_style='info', description='Progress:', layout=Layout(height='25px', width='50%'),…"
      ]
     },
     "metadata": {},
     "output_type": "display_data"
    }
   ],
   "source": [
    "# Code check cell\n",
    "# Do not edit cells with assert commands\n",
    "# If an error is shown after running this cell, please recheck your code.  \n",
    "\n",
    "assert interaction_level_df.schema[\"days_since_submission_on_review_date\"].dataType == IntegerType()\n",
    "\n",
    "assert (interaction_level_df.filter((interaction_level_df.user_id == 428885) & (interaction_level_df.recipe_id == 335241))\n",
    "                            .select('days_since_submission_on_review_date').collect()[0][0]) == 77\n",
    "assert (interaction_level_df.filter((interaction_level_df.user_id == 2025676) & (interaction_level_df.recipe_id == 94265))\n",
    "                            .select('months_since_submission_on_review_date').collect()[0][0]) == 153.22580645\n",
    "assert (interaction_level_df.filter((interaction_level_df.user_id == 338588) & (interaction_level_df.recipe_id == 21859))\n",
    "                            .select('years_since_submission_on_review_date').collect()[0][0]) == 4.564516129166667"
   ]
  },
  {
   "cell_type": "markdown",
   "id": "1ef8df33-d743-4842-a91b-b37f3f52c98a",
   "metadata": {},
   "source": [
    "#### Save the data created till this part in a parquet file. "
   ]
  },
  {
   "cell_type": "code",
   "execution_count": 70,
   "id": "98e9a2d4-00aa-488b-b34a-21bf88f4ff0b",
   "metadata": {
    "execution": {
     "iopub.execute_input": "2025-02-01T12:19:16.545335Z",
     "iopub.status.busy": "2025-02-01T12:19:16.545112Z",
     "iopub.status.idle": "2025-02-01T12:19:16.600834Z",
     "shell.execute_reply": "2025-02-01T12:19:16.600065Z",
     "shell.execute_reply.started": "2025-02-01T12:19:16.545310Z"
    },
    "tags": []
   },
   "outputs": [
    {
     "data": {
      "application/vnd.jupyter.widget-view+json": {
       "model_id": "906a6613d31f42c181d54c16630b542f",
       "version_major": 2,
       "version_minor": 0
      },
      "text/plain": [
       "VBox()"
      ]
     },
     "metadata": {},
     "output_type": "display_data"
    },
    {
     "data": {
      "application/vnd.jupyter.widget-view+json": {
       "model_id": "",
       "version_major": 2,
       "version_minor": 0
      },
      "text/plain": [
       "FloatProgress(value=0.0, bar_style='info', description='Progress:', layout=Layout(height='25px', width='50%'),…"
      ]
     },
     "metadata": {},
     "output_type": "display_data"
    },
    {
     "name": "stdout",
     "output_type": "stream",
     "text": [
      "root\n",
      " |-- name: string (nullable = true)\n",
      " |-- id: integer (nullable = true)\n",
      " |-- minutes: integer (nullable = true)\n",
      " |-- contributor_id: integer (nullable = true)\n",
      " |-- submitted: date (nullable = true)\n",
      " |-- tags: array (nullable = true)\n",
      " |    |-- element: string (containsNull = true)\n",
      " |-- nutrition: string (nullable = true)\n",
      " |-- n_steps: integer (nullable = true)\n",
      " |-- steps: string (nullable = true)\n",
      " |-- description: string (nullable = true)\n",
      " |-- ingredients: string (nullable = true)\n",
      " |-- n_ingredients: integer (nullable = true)\n",
      " |-- calories: float (nullable = true)\n",
      " |-- total_fat_PDV: float (nullable = true)\n",
      " |-- sugar_PDV: float (nullable = true)\n",
      " |-- sodium_PDV: float (nullable = true)\n",
      " |-- protein_PDV: float (nullable = true)\n",
      " |-- saturated_fat_PDV: float (nullable = true)\n",
      " |-- carbohydrates_PDV: float (nullable = true)\n",
      " |-- total_fat_per_100_cal: double (nullable = false)\n",
      " |-- sugar_per_100_cal: double (nullable = false)\n",
      " |-- sodium_per_100_cal: double (nullable = false)\n",
      " |-- protein_per_100_cal: double (nullable = false)\n",
      " |-- saturated_fat_per_100_cal: double (nullable = false)\n",
      " |-- carbohydrates_per_100_cal: double (nullable = false)\n",
      " |-- user_id: integer (nullable = true)\n",
      " |-- recipe_id: integer (nullable = true)\n",
      " |-- rating: integer (nullable = true)\n",
      " |-- review: string (nullable = true)\n",
      " |-- review_date: date (nullable = true)\n",
      " |-- days_since_submission_on_review_date: integer (nullable = true)\n",
      " |-- months_since_submission_on_review_date: double (nullable = true)\n",
      " |-- years_since_submission_on_review_date: double (nullable = true)"
     ]
    }
   ],
   "source": [
    "interaction_level_df.printSchema()"
   ]
  },
  {
   "cell_type": "code",
   "execution_count": 71,
   "id": "aade5673-ee1d-4dc9-b480-9b441d50fdc7",
   "metadata": {
    "execution": {
     "iopub.execute_input": "2025-02-01T12:20:41.771257Z",
     "iopub.status.busy": "2025-02-01T12:20:41.771004Z",
     "iopub.status.idle": "2025-02-01T12:20:59.100817Z",
     "shell.execute_reply": "2025-02-01T12:20:59.100137Z",
     "shell.execute_reply.started": "2025-02-01T12:20:41.771230Z"
    }
   },
   "outputs": [
    {
     "data": {
      "application/vnd.jupyter.widget-view+json": {
       "model_id": "70d5b38c876e46998aa3a204decf6c3a",
       "version_major": 2,
       "version_minor": 0
      },
      "text/plain": [
       "VBox()"
      ]
     },
     "metadata": {},
     "output_type": "display_data"
    },
    {
     "data": {
      "application/vnd.jupyter.widget-view+json": {
       "model_id": "",
       "version_major": 2,
       "version_minor": 0
      },
      "text/plain": [
       "FloatProgress(value=0.0, bar_style='info', description='Progress:', layout=Layout(height='25px', width='50%'),…"
      ]
     },
     "metadata": {},
     "output_type": "display_data"
    }
   ],
   "source": [
    "assert (interaction_level_df.count() ,len(interaction_level_df.columns) ) == (1132367, 33)"
   ]
  },
  {
   "cell_type": "code",
   "execution_count": 72,
   "id": "8fb38077-6700-484b-b591-bfb97c791030",
   "metadata": {
    "execution": {
     "iopub.execute_input": "2025-02-01T12:22:56.331297Z",
     "iopub.status.busy": "2025-02-01T12:22:56.331064Z",
     "iopub.status.idle": "2025-02-01T12:23:35.747455Z",
     "shell.execute_reply": "2025-02-01T12:23:35.746803Z",
     "shell.execute_reply.started": "2025-02-01T12:22:56.331270Z"
    }
   },
   "outputs": [
    {
     "data": {
      "application/vnd.jupyter.widget-view+json": {
       "model_id": "39024f2c02844465a1f64a1c0b730c73",
       "version_major": 2,
       "version_minor": 0
      },
      "text/plain": [
       "VBox()"
      ]
     },
     "metadata": {},
     "output_type": "display_data"
    },
    {
     "data": {
      "application/vnd.jupyter.widget-view+json": {
       "model_id": "",
       "version_major": 2,
       "version_minor": 0
      },
      "text/plain": [
       "FloatProgress(value=0.0, bar_style='info', description='Progress:', layout=Layout(height='25px', width='50%'),…"
      ]
     },
     "metadata": {},
     "output_type": "display_data"
    }
   ],
   "source": [
    "### Data will be saved in a parquet file in S3.\n",
    "### More analysis will be continued in another Notebook\n",
    "\n",
    "interaction_level_df.write.mode(\"overwrite\").parquet(\"s3://recipedata-ravi/interaction_level_df_processed.parquet\")"
   ]
  },
  {
   "cell_type": "code",
   "execution_count": null,
   "id": "e26c4c1e-6ecf-488d-a5f6-e96f93d7485b",
   "metadata": {},
   "outputs": [],
   "source": []
  }
 ],
 "metadata": {
  "kernelspec": {
   "display_name": "PySpark",
   "language": "python",
   "name": "pysparkkernel"
  },
  "language_info": {
   "codemirror_mode": {
    "name": "python",
    "version": 3
   },
   "file_extension": ".py",
   "mimetype": "text/x-python",
   "name": "pyspark",
   "pygments_lexer": "python3"
  }
 },
 "nbformat": 4,
 "nbformat_minor": 5
}
