{
 "cells": [
  {
   "cell_type": "markdown",
   "id": "2f0bb435-8b91-4561-ad95-7a9c98e60eaf",
   "metadata": {
    "execution": {
     "iopub.execute_input": "2025-01-31T08:38:22.041304Z",
     "iopub.status.busy": "2025-01-31T08:38:22.040939Z",
     "iopub.status.idle": "2025-01-31T08:39:07.158677Z",
     "shell.execute_reply": "2025-01-31T08:39:07.157894Z",
     "shell.execute_reply.started": "2025-01-31T08:38:22.041269Z"
    },
    "tags": []
   },
   "source": [
    "###               Recipe Recommendation Project"
   ]
  },
  {
   "cell_type": "markdown",
   "id": "aaa917e2-d5cc-42b6-a513-f26d9ad871e8",
   "metadata": {},
   "source": [
    "#### Importing libraries"
   ]
  },
  {
   "cell_type": "code",
   "execution_count": 89,
   "id": "0ca509e8-6006-48b7-b8aa-28d94f7d4965",
   "metadata": {
    "execution": {
     "iopub.execute_input": "2025-01-31T13:27:21.420066Z",
     "iopub.status.busy": "2025-01-31T13:27:21.419811Z",
     "iopub.status.idle": "2025-01-31T13:27:21.476712Z",
     "shell.execute_reply": "2025-01-31T13:27:21.475848Z",
     "shell.execute_reply.started": "2025-01-31T13:27:21.420028Z"
    },
    "tags": []
   },
   "outputs": [
    {
     "data": {
      "application/vnd.jupyter.widget-view+json": {
       "model_id": "86a37064926746cdb0733a8e24c5f281",
       "version_major": 2,
       "version_minor": 0
      },
      "text/plain": [
       "VBox()"
      ]
     },
     "metadata": {},
     "output_type": "display_data"
    },
    {
     "data": {
      "application/vnd.jupyter.widget-view+json": {
       "model_id": "",
       "version_major": 2,
       "version_minor": 0
      },
      "text/plain": [
       "FloatProgress(value=0.0, bar_style='info', description='Progress:', layout=Layout(height='25px', width='50%'),…"
      ]
     },
     "metadata": {},
     "output_type": "display_data"
    }
   ],
   "source": [
    "### Import libraries for PySpark\n",
    "from pyspark.sql import SparkSession\n",
    "\n",
    "from pyspark.sql import functions as F\n",
    "\n",
    "from pyspark.sql.types import IntegerType, StringType\n",
    "from pyspark.sql.types import ArrayType\n",
    "\n",
    "from pyspark.sql.functions import split, regexp_replace"
   ]
  },
  {
   "cell_type": "markdown",
   "id": "80c7f787-0b9b-48e4-be83-3b80b37feb2a",
   "metadata": {},
   "source": [
    "#### Initiating Spark session"
   ]
  },
  {
   "cell_type": "code",
   "execution_count": 2,
   "id": "18d8bc95-bbb4-49ee-b4c9-c03c56454650",
   "metadata": {
    "execution": {
     "iopub.execute_input": "2025-01-31T12:20:18.762360Z",
     "iopub.status.busy": "2025-01-31T12:20:18.762137Z",
     "iopub.status.idle": "2025-01-31T12:20:18.835705Z",
     "shell.execute_reply": "2025-01-31T12:20:18.834921Z",
     "shell.execute_reply.started": "2025-01-31T12:20:18.762335Z"
    },
    "tags": []
   },
   "outputs": [
    {
     "data": {
      "application/vnd.jupyter.widget-view+json": {
       "model_id": "dcdcfc0bc5184b57b3e183616f983997",
       "version_major": 2,
       "version_minor": 0
      },
      "text/plain": [
       "VBox()"
      ]
     },
     "metadata": {},
     "output_type": "display_data"
    },
    {
     "data": {
      "application/vnd.jupyter.widget-view+json": {
       "model_id": "",
       "version_major": 2,
       "version_minor": 0
      },
      "text/plain": [
       "FloatProgress(value=0.0, bar_style='info', description='Progress:', layout=Layout(height='25px', width='50%'),…"
      ]
     },
     "metadata": {},
     "output_type": "display_data"
    }
   ],
   "source": [
    "spark = SparkSession.builder.appName(\"RecipeData\").getOrCreate()"
   ]
  },
  {
   "cell_type": "markdown",
   "id": "824bb9dc-cf6b-4181-bddf-30e444c2897a",
   "metadata": {},
   "source": [
    "#### Reading the datasets"
   ]
  },
  {
   "cell_type": "code",
   "execution_count": 96,
   "id": "f81561b9-6fd7-449e-923a-12fd6c3f18d1",
   "metadata": {
    "execution": {
     "iopub.execute_input": "2025-01-31T14:04:44.070824Z",
     "iopub.status.busy": "2025-01-31T14:04:44.070611Z",
     "iopub.status.idle": "2025-01-31T14:04:57.382553Z",
     "shell.execute_reply": "2025-01-31T14:04:57.381123Z",
     "shell.execute_reply.started": "2025-01-31T14:04:44.070800Z"
    },
    "tags": []
   },
   "outputs": [
    {
     "data": {
      "application/vnd.jupyter.widget-view+json": {
       "model_id": "a109f4e54d4641a8b09adfeee7ddf77a",
       "version_major": 2,
       "version_minor": 0
      },
      "text/plain": [
       "VBox()"
      ]
     },
     "metadata": {},
     "output_type": "display_data"
    },
    {
     "data": {
      "application/vnd.jupyter.widget-view+json": {
       "model_id": "",
       "version_major": 2,
       "version_minor": 0
      },
      "text/plain": [
       "FloatProgress(value=0.0, bar_style='info', description='Progress:', layout=Layout(height='25px', width='50%'),…"
      ]
     },
     "metadata": {},
     "output_type": "display_data"
    }
   ],
   "source": [
    "raw_recipes_df = spark.read.csv('s3://recipedata-ravi/RAW_recipes_cleaned.csv',inferSchema=True,header=True)"
   ]
  },
  {
   "cell_type": "code",
   "execution_count": 4,
   "id": "91043289-3070-4de7-a7b7-5f295cf9147d",
   "metadata": {
    "execution": {
     "iopub.execute_input": "2025-01-31T12:22:12.621094Z",
     "iopub.status.busy": "2025-01-31T12:22:12.620850Z",
     "iopub.status.idle": "2025-01-31T12:22:17.936689Z",
     "shell.execute_reply": "2025-01-31T12:22:17.935971Z",
     "shell.execute_reply.started": "2025-01-31T12:22:12.621067Z"
    },
    "tags": []
   },
   "outputs": [
    {
     "data": {
      "application/vnd.jupyter.widget-view+json": {
       "model_id": "eff1f0f8c64a48708523ff1fc091850e",
       "version_major": 2,
       "version_minor": 0
      },
      "text/plain": [
       "VBox()"
      ]
     },
     "metadata": {},
     "output_type": "display_data"
    },
    {
     "data": {
      "application/vnd.jupyter.widget-view+json": {
       "model_id": "",
       "version_major": 2,
       "version_minor": 0
      },
      "text/plain": [
       "FloatProgress(value=0.0, bar_style='info', description='Progress:', layout=Layout(height='25px', width='50%'),…"
      ]
     },
     "metadata": {},
     "output_type": "display_data"
    }
   ],
   "source": [
    "recipe_review_df = spark.read.csv('s3://recipedata-ravi/RAW_interactions_cleaned.csv',inferSchema=True,header=True)"
   ]
  },
  {
   "cell_type": "code",
   "execution_count": 5,
   "id": "a7933776-8d3f-4128-94c1-d0283a51c394",
   "metadata": {
    "execution": {
     "iopub.execute_input": "2025-01-31T12:22:32.977230Z",
     "iopub.status.busy": "2025-01-31T12:22:32.976987Z",
     "iopub.status.idle": "2025-01-31T12:22:33.240491Z",
     "shell.execute_reply": "2025-01-31T12:22:33.239743Z",
     "shell.execute_reply.started": "2025-01-31T12:22:32.977204Z"
    },
    "tags": []
   },
   "outputs": [
    {
     "data": {
      "application/vnd.jupyter.widget-view+json": {
       "model_id": "6db996e9f63644cfabeaa919363da5a5",
       "version_major": 2,
       "version_minor": 0
      },
      "text/plain": [
       "VBox()"
      ]
     },
     "metadata": {},
     "output_type": "display_data"
    },
    {
     "data": {
      "application/vnd.jupyter.widget-view+json": {
       "model_id": "",
       "version_major": 2,
       "version_minor": 0
      },
      "text/plain": [
       "FloatProgress(value=0.0, bar_style='info', description='Progress:', layout=Layout(height='25px', width='50%'),…"
      ]
     },
     "metadata": {},
     "output_type": "display_data"
    },
    {
     "name": "stdout",
     "output_type": "stream",
     "text": [
      "root\n",
      " |-- name: string (nullable = true)\n",
      " |-- id: integer (nullable = true)\n",
      " |-- minutes: integer (nullable = true)\n",
      " |-- contributor_id: integer (nullable = true)\n",
      " |-- submitted: date (nullable = true)\n",
      " |-- tags: string (nullable = true)\n",
      " |-- nutrition: string (nullable = true)\n",
      " |-- n_steps: integer (nullable = true)\n",
      " |-- steps: string (nullable = true)\n",
      " |-- description: string (nullable = true)\n",
      " |-- ingredients: string (nullable = true)\n",
      " |-- n_ingredients: integer (nullable = true)"
     ]
    }
   ],
   "source": [
    "raw_recipes_df.printSchema()"
   ]
  },
  {
   "cell_type": "code",
   "execution_count": 6,
   "id": "5a02a8e7-db52-423c-ba50-3beaafc5c511",
   "metadata": {
    "execution": {
     "iopub.execute_input": "2025-01-31T12:22:42.282038Z",
     "iopub.status.busy": "2025-01-31T12:22:42.281799Z",
     "iopub.status.idle": "2025-01-31T12:22:47.602367Z",
     "shell.execute_reply": "2025-01-31T12:22:47.601538Z",
     "shell.execute_reply.started": "2025-01-31T12:22:42.282009Z"
    },
    "tags": []
   },
   "outputs": [
    {
     "data": {
      "application/vnd.jupyter.widget-view+json": {
       "model_id": "ac5eaf46aab04d8e91381a73a03fba78",
       "version_major": 2,
       "version_minor": 0
      },
      "text/plain": [
       "VBox()"
      ]
     },
     "metadata": {},
     "output_type": "display_data"
    },
    {
     "data": {
      "application/vnd.jupyter.widget-view+json": {
       "model_id": "",
       "version_major": 2,
       "version_minor": 0
      },
      "text/plain": [
       "FloatProgress(value=0.0, bar_style='info', description='Progress:', layout=Layout(height='25px', width='50%'),…"
      ]
     },
     "metadata": {},
     "output_type": "display_data"
    }
   ],
   "source": [
    "# Code check cell\n",
    "# Do not edit cells with assert commands\n",
    "# If an error is shown after running this cell, please recheck your code.  \n",
    "\n",
    "assert raw_recipes_df.count() == 231637, \"There is a mistake in reading the data.\"\n",
    "assert len(raw_recipes_df.columns) == 12, \"There is a mistake in reading the data.\"\n",
    "assert raw_recipes_df.schema[\"minutes\"].dataType == IntegerType(), \"The data types have not been read correctly.\"\n",
    "assert raw_recipes_df.schema[\"tags\"].dataType == StringType(), \"The data types have not been read correctly.\"\n",
    "assert raw_recipes_df.schema[\"n_ingredients\"].dataType == IntegerType(), \"The data types have not been read correctly.\""
   ]
  },
  {
   "cell_type": "markdown",
   "id": "3013cb9d-3d01-4df6-ba71-2f0b510d4aec",
   "metadata": {},
   "source": [
    "#### Extract Nutrition Values"
   ]
  },
  {
   "cell_type": "code",
   "execution_count": null,
   "id": "e64c9b76-c394-4216-a20e-b624b6d585d7",
   "metadata": {},
   "outputs": [],
   "source": []
  },
  {
   "cell_type": "code",
   "execution_count": null,
   "id": "d6c28212-e7e7-4fc8-b440-0959913e0617",
   "metadata": {},
   "outputs": [],
   "source": []
  },
  {
   "cell_type": "code",
   "execution_count": null,
   "id": "d12647bd-2d7c-4a85-b08c-47b3f030e6d1",
   "metadata": {},
   "outputs": [],
   "source": []
  },
  {
   "cell_type": "code",
   "execution_count": null,
   "id": "1f4efb28-791e-4eef-a098-3633f18acae6",
   "metadata": {},
   "outputs": [],
   "source": []
  },
  {
   "cell_type": "code",
   "execution_count": null,
   "id": "bdbaf924-ac42-4ce1-90f0-483084ab4992",
   "metadata": {},
   "outputs": [],
   "source": []
  },
  {
   "cell_type": "markdown",
   "id": "440d2960-9d78-4e1c-803f-2dc7a2ce2f44",
   "metadata": {},
   "source": [
    "#### Convert Tags column from a string to an array of strings"
   ]
  },
  {
   "cell_type": "code",
   "execution_count": 107,
   "id": "9c7da9be-f7d2-4872-a81b-ca4715090021",
   "metadata": {
    "execution": {
     "iopub.execute_input": "2025-01-31T14:16:20.724989Z",
     "iopub.status.busy": "2025-01-31T14:16:20.724774Z",
     "iopub.status.idle": "2025-01-31T14:16:20.982700Z",
     "shell.execute_reply": "2025-01-31T14:16:20.981915Z",
     "shell.execute_reply.started": "2025-01-31T14:16:20.724965Z"
    },
    "tags": []
   },
   "outputs": [
    {
     "data": {
      "application/vnd.jupyter.widget-view+json": {
       "model_id": "880b8c1b510f4f3e9d5f600833bc1a93",
       "version_major": 2,
       "version_minor": 0
      },
      "text/plain": [
       "VBox()"
      ]
     },
     "metadata": {},
     "output_type": "display_data"
    },
    {
     "data": {
      "application/vnd.jupyter.widget-view+json": {
       "model_id": "",
       "version_major": 2,
       "version_minor": 0
      },
      "text/plain": [
       "FloatProgress(value=0.0, bar_style='info', description='Progress:', layout=Layout(height='25px', width='50%'),…"
      ]
     },
     "metadata": {},
     "output_type": "display_data"
    }
   ],
   "source": [
    "raw_recipes_df = (raw_recipes_df\n",
    "                  .withColumn('tags', \n",
    "                             # pyspark function to remove symbols like '[' ']' \"'\" from the strings in the tags column.\n",
    "                              regexp_replace(regexp_replace(regexp_replace(\"tags\", \"\\\\[\", \"\"), \"\\\\]\", \"\"), \"'\", \"\")))"
   ]
  },
  {
   "cell_type": "code",
   "execution_count": 108,
   "id": "127a5b92-e9d1-440e-aac4-0f16eeb23624",
   "metadata": {
    "execution": {
     "iopub.execute_input": "2025-01-31T14:16:33.449175Z",
     "iopub.status.busy": "2025-01-31T14:16:33.448959Z",
     "iopub.status.idle": "2025-01-31T14:16:33.716642Z",
     "shell.execute_reply": "2025-01-31T14:16:33.715084Z",
     "shell.execute_reply.started": "2025-01-31T14:16:33.449150Z"
    },
    "tags": []
   },
   "outputs": [
    {
     "data": {
      "application/vnd.jupyter.widget-view+json": {
       "model_id": "17aec4f3282e4c8292900ad52e81cf22",
       "version_major": 2,
       "version_minor": 0
      },
      "text/plain": [
       "VBox()"
      ]
     },
     "metadata": {},
     "output_type": "display_data"
    },
    {
     "data": {
      "application/vnd.jupyter.widget-view+json": {
       "model_id": "",
       "version_major": 2,
       "version_minor": 0
      },
      "text/plain": [
       "FloatProgress(value=0.0, bar_style='info', description='Progress:', layout=Layout(height='25px', width='50%'),…"
      ]
     },
     "metadata": {},
     "output_type": "display_data"
    }
   ],
   "source": [
    "raw_recipes_df = raw_recipes_df.withColumn(\"tags\", split(raw_recipes_df[\"tags\"], \", \"))\n",
    "raw_recipes_df = raw_recipes_df.withColumn(\"tags\", raw_recipes_df[\"tags\"].cast(ArrayType(StringType(), True)))"
   ]
  },
  {
   "cell_type": "code",
   "execution_count": 109,
   "id": "aed7739b-0368-4666-8c19-f9784592f48a",
   "metadata": {
    "execution": {
     "iopub.execute_input": "2025-01-31T14:16:54.751306Z",
     "iopub.status.busy": "2025-01-31T14:16:54.751086Z",
     "iopub.status.idle": "2025-01-31T14:17:16.116174Z",
     "shell.execute_reply": "2025-01-31T14:17:16.115159Z",
     "shell.execute_reply.started": "2025-01-31T14:16:54.751282Z"
    },
    "tags": []
   },
   "outputs": [
    {
     "data": {
      "application/vnd.jupyter.widget-view+json": {
       "model_id": "2f8a8e6f28d242ea865e2c7f7e2b907c",
       "version_major": 2,
       "version_minor": 0
      },
      "text/plain": [
       "VBox()"
      ]
     },
     "metadata": {},
     "output_type": "display_data"
    },
    {
     "data": {
      "application/vnd.jupyter.widget-view+json": {
       "model_id": "",
       "version_major": 2,
       "version_minor": 0
      },
      "text/plain": [
       "FloatProgress(value=0.0, bar_style='info', description='Progress:', layout=Layout(height='25px', width='50%'),…"
      ]
     },
     "metadata": {},
     "output_type": "display_data"
    }
   ],
   "source": [
    "# Code check cell\n",
    "# Do not edit cells with assert commands\n",
    "# If an error is shown after running this cell, please recheck your code.  \n",
    "\n",
    "assert raw_recipes_df.schema[\"tags\"].dataType == ArrayType(StringType(), True), \"You have not split the string into an array.\"\n",
    "assert raw_recipes_df.collect()[2][5] == ['time-to-make','course', 'preparation', 'main-dish', 'chili', 'crock-pot-slow-cooker', 'dietary', 'equipment', '4-hours-or-less'], \"Recheck your string cleaning and splitting operations.\""
   ]
  },
  {
   "cell_type": "code",
   "execution_count": null,
   "id": "261b4313-f9bb-45a8-9edb-659c53c8ec50",
   "metadata": {},
   "outputs": [],
   "source": []
  }
 ],
 "metadata": {
  "kernelspec": {
   "display_name": "PySpark",
   "language": "python",
   "name": "pysparkkernel"
  },
  "language_info": {
   "codemirror_mode": {
    "name": "python",
    "version": 3
   },
   "file_extension": ".py",
   "mimetype": "text/x-python",
   "name": "pyspark",
   "pygments_lexer": "python3"
  }
 },
 "nbformat": 4,
 "nbformat_minor": 5
}
